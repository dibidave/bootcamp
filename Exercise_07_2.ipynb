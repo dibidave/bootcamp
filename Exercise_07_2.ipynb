{
 "cells": [
  {
   "cell_type": "code",
   "execution_count": 1,
   "metadata": {},
   "outputs": [],
   "source": [
    "import numpy"
   ]
  },
  {
   "cell_type": "code",
   "execution_count": 2,
   "metadata": {},
   "outputs": [],
   "source": [
    "A = numpy.array(\n",
    "    [\n",
    "        [6.7, 1.3, 0.6, 0.7],\n",
    "        [0.1, 5.5, 0.4, 2.4],\n",
    "        [1.1, 0.8, 4.5, 1.7],\n",
    "        [0.0, 1.5, 3.4, 7.5],\n",
    "    ]\n",
    ")\n",
    "\n",
    "b = numpy.array([1.1, 2.3, 3.3, 3.9])"
   ]
  },
  {
   "cell_type": "code",
   "execution_count": 3,
   "metadata": {},
   "outputs": [
    {
     "name": "stdout",
     "output_type": "stream",
     "text": [
      "[6.7 1.3 0.6 0.7]\n"
     ]
    }
   ],
   "source": [
    "# Print row 1\n",
    "\n",
    "print(A[0, :])"
   ]
  },
  {
   "cell_type": "code",
   "execution_count": 4,
   "metadata": {},
   "outputs": [
    {
     "name": "stdout",
     "output_type": "stream",
     "text": [
      "[[6.7 0.6]\n",
      " [0.1 0.4]\n",
      " [1.1 4.5]\n",
      " [0.  3.4]]\n"
     ]
    }
   ],
   "source": [
    "# Print columns 1 and 3\n",
    "\n",
    "print(A[:, [0, 2]])"
   ]
  },
  {
   "cell_type": "code",
   "execution_count": 6,
   "metadata": {},
   "outputs": [
    {
     "name": "stdout",
     "output_type": "stream",
     "text": [
      "[6.7 5.5 2.4 4.5 3.4 7.5]\n"
     ]
    }
   ],
   "source": [
    "# Print all values greater than 2\n",
    "\n",
    "print(A[A > 2])"
   ]
  },
  {
   "cell_type": "code",
   "execution_count": 7,
   "metadata": {},
   "outputs": [
    {
     "name": "stdout",
     "output_type": "stream",
     "text": [
      "[6.7 5.5 4.5 7.5]\n"
     ]
    }
   ],
   "source": [
    "# Print the diagonal of A\n",
    "\n",
    "print(numpy.diag(A))"
   ]
  },
  {
   "cell_type": "code",
   "execution_count": 8,
   "metadata": {},
   "outputs": [],
   "source": [
    "x = numpy.linalg.solve(A, b)"
   ]
  },
  {
   "cell_type": "code",
   "execution_count": 9,
   "metadata": {},
   "outputs": [
    {
     "data": {
      "text/plain": [
       "array([1.1, 2.3, 3.3, 3.9])"
      ]
     },
     "execution_count": 9,
     "metadata": {},
     "output_type": "execute_result"
    }
   ],
   "source": [
    "numpy.dot(A, x)"
   ]
  },
  {
   "cell_type": "code",
   "execution_count": 10,
   "metadata": {},
   "outputs": [
    {
     "data": {
      "text/plain": [
       "array([[6.7, 0.1, 1.1, 0. ],\n",
       "       [1.3, 5.5, 0.8, 1.5],\n",
       "       [0.6, 0.4, 4.5, 3.4],\n",
       "       [0.7, 2.4, 1.7, 7.5]])"
      ]
     },
     "execution_count": 10,
     "metadata": {},
     "output_type": "execute_result"
    }
   ],
   "source": [
    "numpy.transpose(A)"
   ]
  },
  {
   "cell_type": "code",
   "execution_count": 11,
   "metadata": {},
   "outputs": [
    {
     "data": {
      "text/plain": [
       "array([[ 0.15267508, -0.03365026, -0.01778   ,  0.00054854],\n",
       "       [-0.00906001,  0.19788853,  0.03719385, -0.07090934],\n",
       "       [-0.04391535, -0.0144834 ,  0.26880108, -0.05219479],\n",
       "       [ 0.02172029, -0.0330119 , -0.12929526,  0.17117684]])"
      ]
     },
     "execution_count": 11,
     "metadata": {},
     "output_type": "execute_result"
    }
   ],
   "source": [
    "numpy.linalg.inv(A)"
   ]
  },
  {
   "cell_type": "code",
   "execution_count": 12,
   "metadata": {},
   "outputs": [],
   "source": [
    "B = numpy.ravel(A)"
   ]
  },
  {
   "cell_type": "code",
   "execution_count": 13,
   "metadata": {},
   "outputs": [
    {
     "data": {
      "text/plain": [
       "array([6.7, 1.3, 0.6, 0.7, 0.1, 5.5, 0.4, 2.4, 1.1, 0.8, 4.5, 1.7, 0. ,\n",
       "       1.5, 3.4, 7.5])"
      ]
     },
     "execution_count": 13,
     "metadata": {},
     "output_type": "execute_result"
    }
   ],
   "source": [
    "B"
   ]
  },
  {
   "cell_type": "code",
   "execution_count": 14,
   "metadata": {},
   "outputs": [
    {
     "data": {
      "text/plain": [
       "array([[6.7, 1.3, 0.6, 0.7],\n",
       "       [0.1, 5.5, 0.4, 2.4],\n",
       "       [1.1, 0.8, 4.5, 1.7],\n",
       "       [0. , 1.5, 3.4, 7.5]])"
      ]
     },
     "execution_count": 14,
     "metadata": {},
     "output_type": "execute_result"
    }
   ],
   "source": [
    "B.reshape(A.shape)"
   ]
  },
  {
   "cell_type": "code",
   "execution_count": null,
   "metadata": {},
   "outputs": [],
   "source": []
  }
 ],
 "metadata": {
  "kernelspec": {
   "display_name": "Python 3",
   "language": "python",
   "name": "python3"
  },
  "language_info": {
   "codemirror_mode": {
    "name": "ipython",
    "version": 3
   },
   "file_extension": ".py",
   "mimetype": "text/x-python",
   "name": "python",
   "nbconvert_exporter": "python",
   "pygments_lexer": "ipython3",
   "version": "3.7.0"
  }
 },
 "nbformat": 4,
 "nbformat_minor": 4
}
