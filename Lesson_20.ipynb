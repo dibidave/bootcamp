{
 "cells": [
  {
   "cell_type": "code",
   "execution_count": 3,
   "metadata": {},
   "outputs": [
    {
     "data": {
      "text/html": [
       "\n",
       "    <div class=\"bk-root\">\n",
       "        <a href=\"https://bokeh.org\" target=\"_blank\" class=\"bk-logo bk-logo-small bk-logo-notebook\"></a>\n",
       "        <span id=\"1002\">Loading BokehJS ...</span>\n",
       "    </div>"
      ]
     },
     "metadata": {},
     "output_type": "display_data"
    },
    {
     "data": {
      "application/javascript": [
       "\n",
       "(function(root) {\n",
       "  function now() {\n",
       "    return new Date();\n",
       "  }\n",
       "\n",
       "  var force = true;\n",
       "\n",
       "  if (typeof root._bokeh_onload_callbacks === \"undefined\" || force === true) {\n",
       "    root._bokeh_onload_callbacks = [];\n",
       "    root._bokeh_is_loading = undefined;\n",
       "  }\n",
       "\n",
       "  var JS_MIME_TYPE = 'application/javascript';\n",
       "  var HTML_MIME_TYPE = 'text/html';\n",
       "  var EXEC_MIME_TYPE = 'application/vnd.bokehjs_exec.v0+json';\n",
       "  var CLASS_NAME = 'output_bokeh rendered_html';\n",
       "\n",
       "  /**\n",
       "   * Render data to the DOM node\n",
       "   */\n",
       "  function render(props, node) {\n",
       "    var script = document.createElement(\"script\");\n",
       "    node.appendChild(script);\n",
       "  }\n",
       "\n",
       "  /**\n",
       "   * Handle when an output is cleared or removed\n",
       "   */\n",
       "  function handleClearOutput(event, handle) {\n",
       "    var cell = handle.cell;\n",
       "\n",
       "    var id = cell.output_area._bokeh_element_id;\n",
       "    var server_id = cell.output_area._bokeh_server_id;\n",
       "    // Clean up Bokeh references\n",
       "    if (id != null && id in Bokeh.index) {\n",
       "      Bokeh.index[id].model.document.clear();\n",
       "      delete Bokeh.index[id];\n",
       "    }\n",
       "\n",
       "    if (server_id !== undefined) {\n",
       "      // Clean up Bokeh references\n",
       "      var cmd = \"from bokeh.io.state import curstate; print(curstate().uuid_to_server['\" + server_id + \"'].get_sessions()[0].document.roots[0]._id)\";\n",
       "      cell.notebook.kernel.execute(cmd, {\n",
       "        iopub: {\n",
       "          output: function(msg) {\n",
       "            var id = msg.content.text.trim();\n",
       "            if (id in Bokeh.index) {\n",
       "              Bokeh.index[id].model.document.clear();\n",
       "              delete Bokeh.index[id];\n",
       "            }\n",
       "          }\n",
       "        }\n",
       "      });\n",
       "      // Destroy server and session\n",
       "      var cmd = \"import bokeh.io.notebook as ion; ion.destroy_server('\" + server_id + \"')\";\n",
       "      cell.notebook.kernel.execute(cmd);\n",
       "    }\n",
       "  }\n",
       "\n",
       "  /**\n",
       "   * Handle when a new output is added\n",
       "   */\n",
       "  function handleAddOutput(event, handle) {\n",
       "    var output_area = handle.output_area;\n",
       "    var output = handle.output;\n",
       "\n",
       "    // limit handleAddOutput to display_data with EXEC_MIME_TYPE content only\n",
       "    if ((output.output_type != \"display_data\") || (!Object.prototype.hasOwnProperty.call(output.data, EXEC_MIME_TYPE))) {\n",
       "      return\n",
       "    }\n",
       "\n",
       "    var toinsert = output_area.element.find(\".\" + CLASS_NAME.split(' ')[0]);\n",
       "\n",
       "    if (output.metadata[EXEC_MIME_TYPE][\"id\"] !== undefined) {\n",
       "      toinsert[toinsert.length - 1].firstChild.textContent = output.data[JS_MIME_TYPE];\n",
       "      // store reference to embed id on output_area\n",
       "      output_area._bokeh_element_id = output.metadata[EXEC_MIME_TYPE][\"id\"];\n",
       "    }\n",
       "    if (output.metadata[EXEC_MIME_TYPE][\"server_id\"] !== undefined) {\n",
       "      var bk_div = document.createElement(\"div\");\n",
       "      bk_div.innerHTML = output.data[HTML_MIME_TYPE];\n",
       "      var script_attrs = bk_div.children[0].attributes;\n",
       "      for (var i = 0; i < script_attrs.length; i++) {\n",
       "        toinsert[toinsert.length - 1].firstChild.setAttribute(script_attrs[i].name, script_attrs[i].value);\n",
       "        toinsert[toinsert.length - 1].firstChild.textContent = bk_div.children[0].textContent\n",
       "      }\n",
       "      // store reference to server id on output_area\n",
       "      output_area._bokeh_server_id = output.metadata[EXEC_MIME_TYPE][\"server_id\"];\n",
       "    }\n",
       "  }\n",
       "\n",
       "  function register_renderer(events, OutputArea) {\n",
       "\n",
       "    function append_mime(data, metadata, element) {\n",
       "      // create a DOM node to render to\n",
       "      var toinsert = this.create_output_subarea(\n",
       "        metadata,\n",
       "        CLASS_NAME,\n",
       "        EXEC_MIME_TYPE\n",
       "      );\n",
       "      this.keyboard_manager.register_events(toinsert);\n",
       "      // Render to node\n",
       "      var props = {data: data, metadata: metadata[EXEC_MIME_TYPE]};\n",
       "      render(props, toinsert[toinsert.length - 1]);\n",
       "      element.append(toinsert);\n",
       "      return toinsert\n",
       "    }\n",
       "\n",
       "    /* Handle when an output is cleared or removed */\n",
       "    events.on('clear_output.CodeCell', handleClearOutput);\n",
       "    events.on('delete.Cell', handleClearOutput);\n",
       "\n",
       "    /* Handle when a new output is added */\n",
       "    events.on('output_added.OutputArea', handleAddOutput);\n",
       "\n",
       "    /**\n",
       "     * Register the mime type and append_mime function with output_area\n",
       "     */\n",
       "    OutputArea.prototype.register_mime_type(EXEC_MIME_TYPE, append_mime, {\n",
       "      /* Is output safe? */\n",
       "      safe: true,\n",
       "      /* Index of renderer in `output_area.display_order` */\n",
       "      index: 0\n",
       "    });\n",
       "  }\n",
       "\n",
       "  // register the mime type if in Jupyter Notebook environment and previously unregistered\n",
       "  if (root.Jupyter !== undefined) {\n",
       "    var events = require('base/js/events');\n",
       "    var OutputArea = require('notebook/js/outputarea').OutputArea;\n",
       "\n",
       "    if (OutputArea.prototype.mime_types().indexOf(EXEC_MIME_TYPE) == -1) {\n",
       "      register_renderer(events, OutputArea);\n",
       "    }\n",
       "  }\n",
       "\n",
       "  \n",
       "  if (typeof (root._bokeh_timeout) === \"undefined\" || force === true) {\n",
       "    root._bokeh_timeout = Date.now() + 5000;\n",
       "    root._bokeh_failed_load = false;\n",
       "  }\n",
       "\n",
       "  var NB_LOAD_WARNING = {'data': {'text/html':\n",
       "     \"<div style='background-color: #fdd'>\\n\"+\n",
       "     \"<p>\\n\"+\n",
       "     \"BokehJS does not appear to have successfully loaded. If loading BokehJS from CDN, this \\n\"+\n",
       "     \"may be due to a slow or bad network connection. Possible fixes:\\n\"+\n",
       "     \"</p>\\n\"+\n",
       "     \"<ul>\\n\"+\n",
       "     \"<li>re-rerun `output_notebook()` to attempt to load from CDN again, or</li>\\n\"+\n",
       "     \"<li>use INLINE resources instead, as so:</li>\\n\"+\n",
       "     \"</ul>\\n\"+\n",
       "     \"<code>\\n\"+\n",
       "     \"from bokeh.resources import INLINE\\n\"+\n",
       "     \"output_notebook(resources=INLINE)\\n\"+\n",
       "     \"</code>\\n\"+\n",
       "     \"</div>\"}};\n",
       "\n",
       "  function display_loaded() {\n",
       "    var el = document.getElementById(\"1002\");\n",
       "    if (el != null) {\n",
       "      el.textContent = \"BokehJS is loading...\";\n",
       "    }\n",
       "    if (root.Bokeh !== undefined) {\n",
       "      if (el != null) {\n",
       "        el.textContent = \"BokehJS \" + root.Bokeh.version + \" successfully loaded.\";\n",
       "      }\n",
       "    } else if (Date.now() < root._bokeh_timeout) {\n",
       "      setTimeout(display_loaded, 100)\n",
       "    }\n",
       "  }\n",
       "\n",
       "\n",
       "  function run_callbacks() {\n",
       "    try {\n",
       "      root._bokeh_onload_callbacks.forEach(function(callback) {\n",
       "        if (callback != null)\n",
       "          callback();\n",
       "      });\n",
       "    } finally {\n",
       "      delete root._bokeh_onload_callbacks\n",
       "    }\n",
       "    console.debug(\"Bokeh: all callbacks have finished\");\n",
       "  }\n",
       "\n",
       "  function load_libs(css_urls, js_urls, callback) {\n",
       "    if (css_urls == null) css_urls = [];\n",
       "    if (js_urls == null) js_urls = [];\n",
       "\n",
       "    root._bokeh_onload_callbacks.push(callback);\n",
       "    if (root._bokeh_is_loading > 0) {\n",
       "      console.debug(\"Bokeh: BokehJS is being loaded, scheduling callback at\", now());\n",
       "      return null;\n",
       "    }\n",
       "    if (js_urls == null || js_urls.length === 0) {\n",
       "      run_callbacks();\n",
       "      return null;\n",
       "    }\n",
       "    console.debug(\"Bokeh: BokehJS not loaded, scheduling load and callback at\", now());\n",
       "    root._bokeh_is_loading = css_urls.length + js_urls.length;\n",
       "\n",
       "    function on_load() {\n",
       "      root._bokeh_is_loading--;\n",
       "      if (root._bokeh_is_loading === 0) {\n",
       "        console.debug(\"Bokeh: all BokehJS libraries/stylesheets loaded\");\n",
       "        run_callbacks()\n",
       "      }\n",
       "    }\n",
       "\n",
       "    function on_error(url) {\n",
       "      console.error(\"failed to load \" + url);\n",
       "    }\n",
       "\n",
       "    for (let i = 0; i < css_urls.length; i++) {\n",
       "      const url = css_urls[i];\n",
       "      const element = document.createElement(\"link\");\n",
       "      element.onload = on_load;\n",
       "      element.onerror = on_error.bind(null, url);\n",
       "      element.rel = \"stylesheet\";\n",
       "      element.type = \"text/css\";\n",
       "      element.href = url;\n",
       "      console.debug(\"Bokeh: injecting link tag for BokehJS stylesheet: \", url);\n",
       "      document.body.appendChild(element);\n",
       "    }\n",
       "\n",
       "    const hashes = {\"https://cdn.bokeh.org/bokeh/release/bokeh-2.3.2.min.js\": \"XypntL49z55iwGVUW4qsEu83zKL3XEcz0MjuGOQ9SlaaQ68X/g+k1FcioZi7oQAc\", \"https://cdn.bokeh.org/bokeh/release/bokeh-tables-2.3.2.min.js\": \"bEsM86IHGDTLCS0Zod8a8WM6Y4+lafAL/eSiyQcuPzinmWNgNO2/olUF0Z2Dkn5i\", \"https://cdn.bokeh.org/bokeh/release/bokeh-widgets-2.3.2.min.js\": \"TX0gSQTdXTTeScqxj6PVQxTiRW8DOoGVwinyi1D3kxv7wuxQ02XkOxv0xwiypcAH\"};\n",
       "\n",
       "    for (let i = 0; i < js_urls.length; i++) {\n",
       "      const url = js_urls[i];\n",
       "      const element = document.createElement('script');\n",
       "      element.onload = on_load;\n",
       "      element.onerror = on_error.bind(null, url);\n",
       "      element.async = false;\n",
       "      element.src = url;\n",
       "      if (url in hashes) {\n",
       "        element.crossOrigin = \"anonymous\";\n",
       "        element.integrity = \"sha384-\" + hashes[url];\n",
       "      }\n",
       "      console.debug(\"Bokeh: injecting script tag for BokehJS library: \", url);\n",
       "      document.head.appendChild(element);\n",
       "    }\n",
       "  };\n",
       "\n",
       "  function inject_raw_css(css) {\n",
       "    const element = document.createElement(\"style\");\n",
       "    element.appendChild(document.createTextNode(css));\n",
       "    document.body.appendChild(element);\n",
       "  }\n",
       "\n",
       "  \n",
       "  var js_urls = [\"https://cdn.bokeh.org/bokeh/release/bokeh-2.3.2.min.js\", \"https://cdn.bokeh.org/bokeh/release/bokeh-widgets-2.3.2.min.js\", \"https://cdn.bokeh.org/bokeh/release/bokeh-tables-2.3.2.min.js\"];\n",
       "  var css_urls = [];\n",
       "  \n",
       "\n",
       "  var inline_js = [\n",
       "    function(Bokeh) {\n",
       "      Bokeh.set_log_level(\"info\");\n",
       "    },\n",
       "    function(Bokeh) {\n",
       "    \n",
       "    \n",
       "    }\n",
       "  ];\n",
       "\n",
       "  function run_inline_js() {\n",
       "    \n",
       "    if (root.Bokeh !== undefined || force === true) {\n",
       "      \n",
       "    for (var i = 0; i < inline_js.length; i++) {\n",
       "      inline_js[i].call(root, root.Bokeh);\n",
       "    }\n",
       "    if (force === true) {\n",
       "        display_loaded();\n",
       "      }} else if (Date.now() < root._bokeh_timeout) {\n",
       "      setTimeout(run_inline_js, 100);\n",
       "    } else if (!root._bokeh_failed_load) {\n",
       "      console.log(\"Bokeh: BokehJS failed to load within specified timeout.\");\n",
       "      root._bokeh_failed_load = true;\n",
       "    } else if (force !== true) {\n",
       "      var cell = $(document.getElementById(\"1002\")).parents('.cell').data().cell;\n",
       "      cell.output_area.append_execute_result(NB_LOAD_WARNING)\n",
       "    }\n",
       "\n",
       "  }\n",
       "\n",
       "  if (root._bokeh_is_loading === 0) {\n",
       "    console.debug(\"Bokeh: BokehJS loaded, going straight to plotting\");\n",
       "    run_inline_js();\n",
       "  } else {\n",
       "    load_libs(css_urls, js_urls, function() {\n",
       "      console.debug(\"Bokeh: BokehJS plotting callback run at\", now());\n",
       "      run_inline_js();\n",
       "    });\n",
       "  }\n",
       "}(window));"
      ],
      "application/vnd.bokehjs_load.v0+json": "\n(function(root) {\n  function now() {\n    return new Date();\n  }\n\n  var force = true;\n\n  if (typeof root._bokeh_onload_callbacks === \"undefined\" || force === true) {\n    root._bokeh_onload_callbacks = [];\n    root._bokeh_is_loading = undefined;\n  }\n\n  \n\n  \n  if (typeof (root._bokeh_timeout) === \"undefined\" || force === true) {\n    root._bokeh_timeout = Date.now() + 5000;\n    root._bokeh_failed_load = false;\n  }\n\n  var NB_LOAD_WARNING = {'data': {'text/html':\n     \"<div style='background-color: #fdd'>\\n\"+\n     \"<p>\\n\"+\n     \"BokehJS does not appear to have successfully loaded. If loading BokehJS from CDN, this \\n\"+\n     \"may be due to a slow or bad network connection. Possible fixes:\\n\"+\n     \"</p>\\n\"+\n     \"<ul>\\n\"+\n     \"<li>re-rerun `output_notebook()` to attempt to load from CDN again, or</li>\\n\"+\n     \"<li>use INLINE resources instead, as so:</li>\\n\"+\n     \"</ul>\\n\"+\n     \"<code>\\n\"+\n     \"from bokeh.resources import INLINE\\n\"+\n     \"output_notebook(resources=INLINE)\\n\"+\n     \"</code>\\n\"+\n     \"</div>\"}};\n\n  function display_loaded() {\n    var el = document.getElementById(\"1002\");\n    if (el != null) {\n      el.textContent = \"BokehJS is loading...\";\n    }\n    if (root.Bokeh !== undefined) {\n      if (el != null) {\n        el.textContent = \"BokehJS \" + root.Bokeh.version + \" successfully loaded.\";\n      }\n    } else if (Date.now() < root._bokeh_timeout) {\n      setTimeout(display_loaded, 100)\n    }\n  }\n\n\n  function run_callbacks() {\n    try {\n      root._bokeh_onload_callbacks.forEach(function(callback) {\n        if (callback != null)\n          callback();\n      });\n    } finally {\n      delete root._bokeh_onload_callbacks\n    }\n    console.debug(\"Bokeh: all callbacks have finished\");\n  }\n\n  function load_libs(css_urls, js_urls, callback) {\n    if (css_urls == null) css_urls = [];\n    if (js_urls == null) js_urls = [];\n\n    root._bokeh_onload_callbacks.push(callback);\n    if (root._bokeh_is_loading > 0) {\n      console.debug(\"Bokeh: BokehJS is being loaded, scheduling callback at\", now());\n      return null;\n    }\n    if (js_urls == null || js_urls.length === 0) {\n      run_callbacks();\n      return null;\n    }\n    console.debug(\"Bokeh: BokehJS not loaded, scheduling load and callback at\", now());\n    root._bokeh_is_loading = css_urls.length + js_urls.length;\n\n    function on_load() {\n      root._bokeh_is_loading--;\n      if (root._bokeh_is_loading === 0) {\n        console.debug(\"Bokeh: all BokehJS libraries/stylesheets loaded\");\n        run_callbacks()\n      }\n    }\n\n    function on_error(url) {\n      console.error(\"failed to load \" + url);\n    }\n\n    for (let i = 0; i < css_urls.length; i++) {\n      const url = css_urls[i];\n      const element = document.createElement(\"link\");\n      element.onload = on_load;\n      element.onerror = on_error.bind(null, url);\n      element.rel = \"stylesheet\";\n      element.type = \"text/css\";\n      element.href = url;\n      console.debug(\"Bokeh: injecting link tag for BokehJS stylesheet: \", url);\n      document.body.appendChild(element);\n    }\n\n    const hashes = {\"https://cdn.bokeh.org/bokeh/release/bokeh-2.3.2.min.js\": \"XypntL49z55iwGVUW4qsEu83zKL3XEcz0MjuGOQ9SlaaQ68X/g+k1FcioZi7oQAc\", \"https://cdn.bokeh.org/bokeh/release/bokeh-tables-2.3.2.min.js\": \"bEsM86IHGDTLCS0Zod8a8WM6Y4+lafAL/eSiyQcuPzinmWNgNO2/olUF0Z2Dkn5i\", \"https://cdn.bokeh.org/bokeh/release/bokeh-widgets-2.3.2.min.js\": \"TX0gSQTdXTTeScqxj6PVQxTiRW8DOoGVwinyi1D3kxv7wuxQ02XkOxv0xwiypcAH\"};\n\n    for (let i = 0; i < js_urls.length; i++) {\n      const url = js_urls[i];\n      const element = document.createElement('script');\n      element.onload = on_load;\n      element.onerror = on_error.bind(null, url);\n      element.async = false;\n      element.src = url;\n      if (url in hashes) {\n        element.crossOrigin = \"anonymous\";\n        element.integrity = \"sha384-\" + hashes[url];\n      }\n      console.debug(\"Bokeh: injecting script tag for BokehJS library: \", url);\n      document.head.appendChild(element);\n    }\n  };\n\n  function inject_raw_css(css) {\n    const element = document.createElement(\"style\");\n    element.appendChild(document.createTextNode(css));\n    document.body.appendChild(element);\n  }\n\n  \n  var js_urls = [\"https://cdn.bokeh.org/bokeh/release/bokeh-2.3.2.min.js\", \"https://cdn.bokeh.org/bokeh/release/bokeh-widgets-2.3.2.min.js\", \"https://cdn.bokeh.org/bokeh/release/bokeh-tables-2.3.2.min.js\"];\n  var css_urls = [];\n  \n\n  var inline_js = [\n    function(Bokeh) {\n      Bokeh.set_log_level(\"info\");\n    },\n    function(Bokeh) {\n    \n    \n    }\n  ];\n\n  function run_inline_js() {\n    \n    if (root.Bokeh !== undefined || force === true) {\n      \n    for (var i = 0; i < inline_js.length; i++) {\n      inline_js[i].call(root, root.Bokeh);\n    }\n    if (force === true) {\n        display_loaded();\n      }} else if (Date.now() < root._bokeh_timeout) {\n      setTimeout(run_inline_js, 100);\n    } else if (!root._bokeh_failed_load) {\n      console.log(\"Bokeh: BokehJS failed to load within specified timeout.\");\n      root._bokeh_failed_load = true;\n    } else if (force !== true) {\n      var cell = $(document.getElementById(\"1002\")).parents('.cell').data().cell;\n      cell.output_area.append_execute_result(NB_LOAD_WARNING)\n    }\n\n  }\n\n  if (root._bokeh_is_loading === 0) {\n    console.debug(\"Bokeh: BokehJS loaded, going straight to plotting\");\n    run_inline_js();\n  } else {\n    load_libs(css_urls, js_urls, function() {\n      console.debug(\"Bokeh: BokehJS plotting callback run at\", now());\n      run_inline_js();\n    });\n  }\n}(window));"
     },
     "metadata": {},
     "output_type": "display_data"
    }
   ],
   "source": [
    "import pandas\n",
    "import os\n",
    "\n",
    "import iqplot\n",
    "\n",
    "import bokeh.io\n",
    "import bokeh.plotting\n",
    "\n",
    "bokeh.io.output_notebook()"
   ]
  },
  {
   "cell_type": "code",
   "execution_count": 4,
   "metadata": {},
   "outputs": [],
   "source": [
    "CSV_FILE_PATH = os.path.join(\"data\", \"frog_tongue_adhesion.csv\")\n",
    "df = pandas.read_csv(CSV_FILE_PATH, comment='#')"
   ]
  },
  {
   "cell_type": "code",
   "execution_count": 24,
   "metadata": {},
   "outputs": [
    {
     "data": {
      "text/plain": [
       "bokeh.plotting.figure.Figure"
      ]
     },
     "execution_count": 24,
     "metadata": {},
     "output_type": "execute_result"
    }
   ],
   "source": [
    "type(figure)"
   ]
  },
  {
   "cell_type": "code",
   "execution_count": null,
   "metadata": {},
   "outputs": [],
   "source": [
    "figure."
   ]
  },
  {
   "cell_type": "code",
   "execution_count": 23,
   "metadata": {},
   "outputs": [
    {
     "data": {
      "text/html": [
       "\n",
       "\n",
       "\n",
       "\n",
       "\n",
       "\n",
       "  <div class=\"bk-root\" id=\"5e1a8225-ff5b-40fa-a78e-61f12e6296b9\" data-root-id=\"5156\"></div>\n"
      ]
     },
     "metadata": {},
     "output_type": "display_data"
    },
    {
     "data": {
      "application/javascript": [
       "(function(root) {\n",
       "  function embed_document(root) {\n",
       "    \n",
       "  var docs_json = {\"b31cff28-3477-4065-a49f-4c44c6dc31fe\":{\"defs\":[],\"roots\":{\"references\":[{\"attributes\":{\"below\":[{\"id\":\"5164\"}],\"center\":[{\"id\":\"5167\"},{\"id\":\"5170\"}],\"frame_height\":275,\"frame_width\":375,\"left\":[{\"id\":\"5168\"}],\"renderers\":[{\"id\":\"5193\"},{\"id\":\"5198\"},{\"id\":\"5203\"},{\"id\":\"5208\"},{\"id\":\"5213\"},{\"id\":\"5218\"}],\"title\":{\"id\":\"5509\"},\"toolbar\":{\"id\":\"5178\"},\"toolbar_location\":\"above\",\"x_range\":{\"id\":\"5157\"},\"x_scale\":{\"id\":\"5160\"},\"y_range\":{\"id\":\"5155\"},\"y_scale\":{\"id\":\"5162\"}},\"id\":\"5156\",\"subtype\":\"Figure\",\"type\":\"Plot\"},{\"attributes\":{\"data_source\":{\"id\":\"5185\"},\"glyph\":{\"id\":\"5206\"},\"hover_glyph\":null,\"muted_glyph\":null,\"nonselection_glyph\":{\"id\":\"5207\"},\"view\":{\"id\":\"5209\"}},\"id\":\"5208\",\"type\":\"GlyphRenderer\"},{\"attributes\":{\"source\":{\"id\":\"5186\"}},\"id\":\"5214\",\"type\":\"CDSView\"},{\"attributes\":{\"data\":{\"ID\":[\"II\",\"II\",\"II\"],\"__label\":[\"II\",\"II\",\"II\"],\"cat\":[\"II\",\"II\",\"II\"],\"impact force (mN)\":[1612,1539,1453]},\"selected\":{\"id\":\"5521\"},\"selection_policy\":{\"id\":\"5520\"}},\"id\":\"5186\",\"type\":\"ColumnDataSource\"},{\"attributes\":{},\"id\":\"5171\",\"type\":\"PanTool\"},{\"attributes\":{\"fill_color\":{\"field\":\"cat\",\"transform\":{\"id\":\"5189\"}},\"height\":{\"value\":0.4},\"left\":{\"field\":\"bottom\"},\"line_color\":{\"value\":null},\"right\":{\"field\":\"top\"},\"y\":{\"field\":\"cat\"}},\"id\":\"5201\",\"type\":\"HBar\"},{\"attributes\":{\"source\":{\"id\":\"5185\"}},\"id\":\"5194\",\"type\":\"CDSView\"},{\"attributes\":{},\"id\":\"5172\",\"type\":\"WheelZoomTool\"},{\"attributes\":{},\"id\":\"5509\",\"type\":\"Title\"},{\"attributes\":{\"source\":{\"id\":\"5185\"}},\"id\":\"5204\",\"type\":\"CDSView\"},{\"attributes\":{\"overlay\":{\"id\":\"5177\"}},\"id\":\"5173\",\"type\":\"BoxZoomTool\"},{\"attributes\":{},\"id\":\"5512\",\"type\":\"AllLabels\"},{\"attributes\":{\"factors\":[\"IV\",\"III\",\"II\",\"I\"]},\"id\":\"5155\",\"type\":\"FactorRange\"},{\"attributes\":{\"line_alpha\":{\"value\":0.1},\"x0\":{\"field\":\"top\"},\"x1\":{\"field\":\"top_whisker\"},\"y0\":{\"field\":\"cat\"},\"y1\":{\"field\":\"cat\"}},\"id\":\"5192\",\"type\":\"Segment\"},{\"attributes\":{},\"id\":\"5174\",\"type\":\"SaveTool\"},{\"attributes\":{},\"id\":\"5513\",\"type\":\"CategoricalTickFormatter\"},{\"attributes\":{\"data_source\":{\"id\":\"5215\"},\"glyph\":{\"id\":\"5216\"},\"hover_glyph\":null,\"muted_glyph\":null,\"nonselection_glyph\":{\"id\":\"5217\"},\"view\":{\"id\":\"5219\"}},\"id\":\"5218\",\"type\":\"GlyphRenderer\"},{\"attributes\":{\"fill_alpha\":{\"value\":0.1},\"fill_color\":{\"value\":\"#1f77b4\"},\"line_alpha\":{\"value\":0.1},\"line_color\":{\"value\":\"#1f77b4\"}},\"id\":\"5217\",\"type\":\"Circle\"},{\"attributes\":{},\"id\":\"5175\",\"type\":\"ResetTool\"},{\"attributes\":{},\"id\":\"5515\",\"type\":\"AllLabels\"},{\"attributes\":{\"data_source\":{\"id\":\"5185\"},\"glyph\":{\"id\":\"5201\"},\"hover_glyph\":null,\"muted_glyph\":null,\"nonselection_glyph\":{\"id\":\"5202\"},\"view\":{\"id\":\"5204\"}},\"id\":\"5203\",\"type\":\"GlyphRenderer\"},{\"attributes\":{\"fill_color\":{\"value\":\"#1f77b4\"},\"line_color\":{\"value\":\"#1f77b4\"}},\"id\":\"5216\",\"type\":\"Circle\"},{\"attributes\":{\"data\":{},\"selected\":{\"id\":\"5523\"},\"selection_policy\":{\"id\":\"5522\"}},\"id\":\"5215\",\"type\":\"ColumnDataSource\"},{\"attributes\":{},\"id\":\"5176\",\"type\":\"HelpTool\"},{\"attributes\":{},\"id\":\"5516\",\"type\":\"BasicTickFormatter\"},{\"attributes\":{},\"id\":\"5518\",\"type\":\"UnionRenderers\"},{\"attributes\":{\"factors\":[\"I\",\"II\",\"III\",\"IV\"],\"palette\":[\"#1f77b3\",\"#ff7e0e\",\"#2ba02b\",\"#d62628\",\"#9367bc\",\"#8c564b\",\"#e277c1\",\"#7e7e7e\",\"#bcbc21\",\"#16bdcf\",\"#3a0182\",\"#004201\",\"#0fffa8\",\"#5d003f\",\"#bcbcff\",\"#d8afa1\",\"#b80080\",\"#004d52\",\"#6b6400\",\"#7c0100\",\"#6026ff\",\"#ffff9a\",\"#564964\",\"#8cb893\",\"#93fbff\",\"#018267\",\"#90ff00\",\"#8200a0\",\"#ac8944\",\"#5b3400\",\"#ffbff2\",\"#ff6e75\",\"#798cff\",\"#dd00ff\",\"#505646\",\"#004489\",\"#ffbf60\",\"#ff018c\",\"#bdc8cf\",\"#af97b5\",\"#b65600\",\"#017000\",\"#cd87ff\",\"#1cd646\",\"#bfebc3\",\"#7997b5\",\"#a56089\",\"#6e8956\",\"#bc7c75\",\"#8a2844\",\"#00acff\",\"#8ed4ff\",\"#4b6d77\",\"#00d4b1\",\"#9300f2\",\"#8a9500\",\"#5d5b9e\",\"#fddfba\",\"#00939e\",\"#ffdb00\",\"#00aa79\",\"#520067\",\"#000091\",\"#0a5d3d\",\"#a5e275\",\"#623b41\",\"#c6c689\",\"#ff9eb5\",\"#cd4f6b\",\"#ff07d6\",\"#8a3a05\",\"#7e3d70\",\"#ff4901\",\"#602ba5\",\"#1c00ff\",\"#e6dfff\",\"#aa3baf\",\"#d89c00\",\"#a3a39e\",\"#3f69ff\",\"#46490c\",\"#7b6985\",\"#6b978c\",\"#ff9a75\",\"#835bff\",\"#7c6b46\",\"#80b654\",\"#bc0049\",\"#fd93ff\",\"#5d0018\",\"#89d1d1\",\"#9c8cd3\",\"#da6d42\",\"#8a5700\",\"#3b5069\",\"#4b6b3b\",\"#edcfd8\",\"#cfedff\",\"#aa1500\",\"#dfff4f\",\"#ff2a56\",\"#d1499e\",\"#707cb8\",\"#598000\",\"#00e4fd\",\"#774b95\",\"#67d48c\",\"#3d3a72\",\"#ac413f\",\"#d6a166\",\"#c169cd\",\"#69595d\",\"#87aced\",\"#a0a569\",\"#d1aae6\",\"#870062\",\"#00fddb\",\"#672818\",\"#b342ff\",\"#0e59c4\",\"#168742\",\"#90d300\",\"#cd7900\",\"#f959ff\",\"#5b7466\",\"#8eaeb3\",\"#9c7c8c\",\"#4600c6\",\"#6b4d2d\",\"#a56d46\",\"#9e8972\",\"#a8afca\",\"#cd8ca7\",\"#00fd64\",\"#917900\",\"#ff62a1\",\"#f4ffd8\",\"#018cf0\",\"#13aca0\",\"#5b2d59\",\"#89859e\",\"#cfccba\",\"#d4afc4\",\"#dbdd6d\",\"#cffff4\",\"#006485\",\"#006962\",\"#a84167\",\"#2d97c4\",\"#a874ff\",\"#26ba5d\",\"#57b600\",\"#caffa7\",\"#a379aa\",\"#ffbc93\",\"#89e2c1\",\"#0fc8ff\",\"#d400c4\",\"#626d89\",\"#69858e\",\"#4b4d52\",\"#aa6067\",\"#79b5d4\",\"#2b5916\",\"#9a0024\",\"#bdd1f2\",\"#896e67\",\"#69a56b\",\"#855467\",\"#aecdba\",\"#87997e\",\"#cadb00\",\"#9a0390\",\"#ebbc1a\",\"#eb9cd1\",\"#70006e\",\"#b1a131\",\"#ca6b93\",\"#4146a3\",\"#e48c89\",\"#d44400\",\"#c68aca\",\"#b69597\",\"#d41f75\",\"#724bcc\",\"#674d00\",\"#672138\",\"#38564f\",\"#6ebaaa\",\"#853a31\",\"#a5d397\",\"#b8af8e\",\"#d8e4df\",\"#aa00df\",\"#cac1db\",\"#ffdf8c\",\"#e2524d\",\"#66696e\",\"#ff001c\",\"#522d72\",\"#4d906b\",\"#a86d11\",\"#ff9e26\",\"#5ea3af\",\"#c88556\",\"#915997\",\"#a3a1ff\",\"#fdbaba\",\"#242a87\",\"#dbe6a8\",\"#97f2a7\",\"#6793d6\",\"#ba5b3f\",\"#3a5d91\",\"#364f2f\",\"#267c95\",\"#89959a\",\"#cfb356\",\"#004664\",\"#5e5d2f\",\"#8e8e41\",\"#ac3f13\",\"#69953b\",\"#a13d85\",\"#bfb6ba\",\"#acc667\",\"#6469cf\",\"#91af00\",\"#2be2da\",\"#016e36\",\"#ff7952\",\"#42807e\",\"#4fe800\",\"#995428\",\"#5d0a00\",\"#a30057\",\"#0c8700\",\"#5982a7\",\"#ffebfb\",\"#4b6901\",\"#8775d4\",\"#e6c6ff\",\"#a5ffda\",\"#d86e77\",\"#df014b\",\"#69675b\",\"#776ba1\",\"#7e8067\",\"#594685\",\"#0000ca\",\"#7c002a\",\"#97ff72\",\"#b5e2e1\",\"#db52c8\",\"#777734\",\"#57bd8e\"]},\"id\":\"5188\",\"type\":\"CategoricalColorMapper\"},{\"attributes\":{\"x0\":{\"field\":\"bottom\"},\"x1\":{\"field\":\"bottom_whisker\"},\"y0\":{\"field\":\"cat\"},\"y1\":{\"field\":\"cat\"}},\"id\":\"5196\",\"type\":\"Segment\"},{\"attributes\":{\"source\":{\"id\":\"5185\"}},\"id\":\"5199\",\"type\":\"CDSView\"},{\"attributes\":{\"fill_alpha\":{\"value\":0.1},\"fill_color\":{\"field\":\"cat\",\"transform\":{\"id\":\"5187\"}},\"line_alpha\":{\"value\":0.1},\"line_color\":{\"field\":\"cat\",\"transform\":{\"id\":\"5188\"}},\"x\":{\"field\":\"impact force (mN)\"},\"y\":{\"field\":\"cat\"}},\"id\":\"5212\",\"type\":\"Circle\"},{\"attributes\":{\"data_source\":{\"id\":\"5185\"},\"glyph\":{\"id\":\"5196\"},\"hover_glyph\":null,\"muted_glyph\":null,\"nonselection_glyph\":{\"id\":\"5197\"},\"view\":{\"id\":\"5199\"}},\"id\":\"5198\",\"type\":\"GlyphRenderer\"},{\"attributes\":{\"active_multi\":null,\"tools\":[{\"id\":\"5171\"},{\"id\":\"5172\"},{\"id\":\"5173\"},{\"id\":\"5174\"},{\"id\":\"5175\"},{\"id\":\"5176\"}]},\"id\":\"5178\",\"type\":\"Toolbar\"},{\"attributes\":{},\"id\":\"5157\",\"type\":\"DataRange1d\"},{\"attributes\":{\"source\":{\"id\":\"5215\"}},\"id\":\"5219\",\"type\":\"CDSView\"},{\"attributes\":{},\"id\":\"5519\",\"type\":\"Selection\"},{\"attributes\":{\"bottom_units\":\"screen\",\"fill_alpha\":0.5,\"fill_color\":\"lightgrey\",\"left_units\":\"screen\",\"level\":\"overlay\",\"line_alpha\":1.0,\"line_color\":\"black\",\"line_dash\":[4,4],\"line_width\":2,\"right_units\":\"screen\",\"syncable\":false,\"top_units\":\"screen\"},\"id\":\"5177\",\"type\":\"BoxAnnotation\"},{\"attributes\":{},\"id\":\"5160\",\"type\":\"LinearScale\"},{\"attributes\":{},\"id\":\"5520\",\"type\":\"UnionRenderers\"},{\"attributes\":{\"line_alpha\":{\"value\":0.1},\"x0\":{\"field\":\"bottom\"},\"x1\":{\"field\":\"bottom_whisker\"},\"y0\":{\"field\":\"cat\"},\"y1\":{\"field\":\"cat\"}},\"id\":\"5197\",\"type\":\"Segment\"},{\"attributes\":{},\"id\":\"5162\",\"type\":\"CategoricalScale\"},{\"attributes\":{},\"id\":\"5521\",\"type\":\"Selection\"},{\"attributes\":{\"fill_alpha\":{\"value\":0.1},\"fill_color\":{\"field\":\"cat\",\"transform\":{\"id\":\"5189\"}},\"height\":{\"value\":0.4},\"left\":{\"field\":\"bottom\"},\"line_alpha\":{\"value\":0.1},\"line_color\":{\"value\":null},\"right\":{\"field\":\"top\"},\"y\":{\"field\":\"cat\"}},\"id\":\"5202\",\"type\":\"HBar\"},{\"attributes\":{\"axis_label\":\"impact force (mN)\",\"formatter\":{\"id\":\"5516\"},\"major_label_policy\":{\"id\":\"5515\"},\"ticker\":{\"id\":\"5165\"}},\"id\":\"5164\",\"type\":\"LinearAxis\"},{\"attributes\":{},\"id\":\"5522\",\"type\":\"UnionRenderers\"},{\"attributes\":{\"fill_color\":{\"value\":\"#1f77b4\"},\"height\":{\"value\":0.4},\"left\":{\"field\":\"middle\"},\"line_color\":{\"value\":\"white\"},\"right\":{\"field\":\"middle\"},\"y\":{\"field\":\"cat\"}},\"id\":\"5206\",\"type\":\"HBar\"},{\"attributes\":{},\"id\":\"5165\",\"type\":\"BasicTicker\"},{\"attributes\":{\"source\":{\"id\":\"5185\"}},\"id\":\"5209\",\"type\":\"CDSView\"},{\"attributes\":{},\"id\":\"5523\",\"type\":\"Selection\"},{\"attributes\":{\"fill_alpha\":{\"value\":0.1},\"fill_color\":{\"value\":\"#1f77b4\"},\"height\":{\"value\":0.4},\"left\":{\"field\":\"middle\"},\"line_alpha\":{\"value\":0.1},\"line_color\":{\"value\":\"white\"},\"right\":{\"field\":\"middle\"},\"y\":{\"field\":\"cat\"}},\"id\":\"5207\",\"type\":\"HBar\"},{\"attributes\":{\"data_source\":{\"id\":\"5185\"},\"glyph\":{\"id\":\"5191\"},\"hover_glyph\":null,\"muted_glyph\":null,\"nonselection_glyph\":{\"id\":\"5192\"},\"view\":{\"id\":\"5194\"}},\"id\":\"5193\",\"type\":\"GlyphRenderer\"},{\"attributes\":{\"axis\":{\"id\":\"5164\"},\"ticker\":null},\"id\":\"5167\",\"type\":\"Grid\"},{\"attributes\":{\"x0\":{\"field\":\"top\"},\"x1\":{\"field\":\"top_whisker\"},\"y0\":{\"field\":\"cat\"},\"y1\":{\"field\":\"cat\"}},\"id\":\"5191\",\"type\":\"Segment\"},{\"attributes\":{\"formatter\":{\"id\":\"5513\"},\"major_label_policy\":{\"id\":\"5512\"},\"ticker\":{\"id\":\"5169\"}},\"id\":\"5168\",\"type\":\"CategoricalAxis\"},{\"attributes\":{\"data\":{\"__label\":[\"I\",\"II\",\"III\",\"IV\"],\"bottom\":[1231.25,422.0,458.75,198.0],\"bottom_whisker\":[473.0,245.0,324.0,22.0],\"cat\":[\"I\",\"II\",\"III\",\"IV\"],\"middle\":[1550.5,573.0,544.0,460.5],\"top\":[1904.75,799.75,615.75,599.0],\"top_whisker\":[2641.0,1182.0,806.0,815.0]},\"selected\":{\"id\":\"5519\"},\"selection_policy\":{\"id\":\"5518\"}},\"id\":\"5185\",\"type\":\"ColumnDataSource\"},{\"attributes\":{\"data_source\":{\"id\":\"5186\"},\"glyph\":{\"id\":\"5211\"},\"hover_glyph\":null,\"muted_glyph\":null,\"nonselection_glyph\":{\"id\":\"5212\"},\"view\":{\"id\":\"5214\"}},\"id\":\"5213\",\"type\":\"GlyphRenderer\"},{\"attributes\":{},\"id\":\"5169\",\"type\":\"CategoricalTicker\"},{\"attributes\":{\"factors\":[\"I\",\"II\",\"III\",\"IV\"],\"palette\":[\"#1f77b3\",\"#ff7e0e\",\"#2ba02b\",\"#d62628\",\"#9367bc\",\"#8c564b\",\"#e277c1\",\"#7e7e7e\",\"#bcbc21\",\"#16bdcf\",\"#3a0182\",\"#004201\",\"#0fffa8\",\"#5d003f\",\"#bcbcff\",\"#d8afa1\",\"#b80080\",\"#004d52\",\"#6b6400\",\"#7c0100\",\"#6026ff\",\"#ffff9a\",\"#564964\",\"#8cb893\",\"#93fbff\",\"#018267\",\"#90ff00\",\"#8200a0\",\"#ac8944\",\"#5b3400\",\"#ffbff2\",\"#ff6e75\",\"#798cff\",\"#dd00ff\",\"#505646\",\"#004489\",\"#ffbf60\",\"#ff018c\",\"#bdc8cf\",\"#af97b5\",\"#b65600\",\"#017000\",\"#cd87ff\",\"#1cd646\",\"#bfebc3\",\"#7997b5\",\"#a56089\",\"#6e8956\",\"#bc7c75\",\"#8a2844\",\"#00acff\",\"#8ed4ff\",\"#4b6d77\",\"#00d4b1\",\"#9300f2\",\"#8a9500\",\"#5d5b9e\",\"#fddfba\",\"#00939e\",\"#ffdb00\",\"#00aa79\",\"#520067\",\"#000091\",\"#0a5d3d\",\"#a5e275\",\"#623b41\",\"#c6c689\",\"#ff9eb5\",\"#cd4f6b\",\"#ff07d6\",\"#8a3a05\",\"#7e3d70\",\"#ff4901\",\"#602ba5\",\"#1c00ff\",\"#e6dfff\",\"#aa3baf\",\"#d89c00\",\"#a3a39e\",\"#3f69ff\",\"#46490c\",\"#7b6985\",\"#6b978c\",\"#ff9a75\",\"#835bff\",\"#7c6b46\",\"#80b654\",\"#bc0049\",\"#fd93ff\",\"#5d0018\",\"#89d1d1\",\"#9c8cd3\",\"#da6d42\",\"#8a5700\",\"#3b5069\",\"#4b6b3b\",\"#edcfd8\",\"#cfedff\",\"#aa1500\",\"#dfff4f\",\"#ff2a56\",\"#d1499e\",\"#707cb8\",\"#598000\",\"#00e4fd\",\"#774b95\",\"#67d48c\",\"#3d3a72\",\"#ac413f\",\"#d6a166\",\"#c169cd\",\"#69595d\",\"#87aced\",\"#a0a569\",\"#d1aae6\",\"#870062\",\"#00fddb\",\"#672818\",\"#b342ff\",\"#0e59c4\",\"#168742\",\"#90d300\",\"#cd7900\",\"#f959ff\",\"#5b7466\",\"#8eaeb3\",\"#9c7c8c\",\"#4600c6\",\"#6b4d2d\",\"#a56d46\",\"#9e8972\",\"#a8afca\",\"#cd8ca7\",\"#00fd64\",\"#917900\",\"#ff62a1\",\"#f4ffd8\",\"#018cf0\",\"#13aca0\",\"#5b2d59\",\"#89859e\",\"#cfccba\",\"#d4afc4\",\"#dbdd6d\",\"#cffff4\",\"#006485\",\"#006962\",\"#a84167\",\"#2d97c4\",\"#a874ff\",\"#26ba5d\",\"#57b600\",\"#caffa7\",\"#a379aa\",\"#ffbc93\",\"#89e2c1\",\"#0fc8ff\",\"#d400c4\",\"#626d89\",\"#69858e\",\"#4b4d52\",\"#aa6067\",\"#79b5d4\",\"#2b5916\",\"#9a0024\",\"#bdd1f2\",\"#896e67\",\"#69a56b\",\"#855467\",\"#aecdba\",\"#87997e\",\"#cadb00\",\"#9a0390\",\"#ebbc1a\",\"#eb9cd1\",\"#70006e\",\"#b1a131\",\"#ca6b93\",\"#4146a3\",\"#e48c89\",\"#d44400\",\"#c68aca\",\"#b69597\",\"#d41f75\",\"#724bcc\",\"#674d00\",\"#672138\",\"#38564f\",\"#6ebaaa\",\"#853a31\",\"#a5d397\",\"#b8af8e\",\"#d8e4df\",\"#aa00df\",\"#cac1db\",\"#ffdf8c\",\"#e2524d\",\"#66696e\",\"#ff001c\",\"#522d72\",\"#4d906b\",\"#a86d11\",\"#ff9e26\",\"#5ea3af\",\"#c88556\",\"#915997\",\"#a3a1ff\",\"#fdbaba\",\"#242a87\",\"#dbe6a8\",\"#97f2a7\",\"#6793d6\",\"#ba5b3f\",\"#3a5d91\",\"#364f2f\",\"#267c95\",\"#89959a\",\"#cfb356\",\"#004664\",\"#5e5d2f\",\"#8e8e41\",\"#ac3f13\",\"#69953b\",\"#a13d85\",\"#bfb6ba\",\"#acc667\",\"#6469cf\",\"#91af00\",\"#2be2da\",\"#016e36\",\"#ff7952\",\"#42807e\",\"#4fe800\",\"#995428\",\"#5d0a00\",\"#a30057\",\"#0c8700\",\"#5982a7\",\"#ffebfb\",\"#4b6901\",\"#8775d4\",\"#e6c6ff\",\"#a5ffda\",\"#d86e77\",\"#df014b\",\"#69675b\",\"#776ba1\",\"#7e8067\",\"#594685\",\"#0000ca\",\"#7c002a\",\"#97ff72\",\"#b5e2e1\",\"#db52c8\",\"#777734\",\"#57bd8e\"]},\"id\":\"5187\",\"type\":\"CategoricalColorMapper\"},{\"attributes\":{\"axis\":{\"id\":\"5168\"},\"dimension\":1,\"grid_line_color\":null,\"ticker\":null},\"id\":\"5170\",\"type\":\"Grid\"},{\"attributes\":{\"factors\":[\"I\",\"II\",\"III\",\"IV\"],\"palette\":[\"#1f77b3\",\"#ff7e0e\",\"#2ba02b\",\"#d62628\",\"#9367bc\",\"#8c564b\",\"#e277c1\",\"#7e7e7e\",\"#bcbc21\",\"#16bdcf\",\"#3a0182\",\"#004201\",\"#0fffa8\",\"#5d003f\",\"#bcbcff\",\"#d8afa1\",\"#b80080\",\"#004d52\",\"#6b6400\",\"#7c0100\",\"#6026ff\",\"#ffff9a\",\"#564964\",\"#8cb893\",\"#93fbff\",\"#018267\",\"#90ff00\",\"#8200a0\",\"#ac8944\",\"#5b3400\",\"#ffbff2\",\"#ff6e75\",\"#798cff\",\"#dd00ff\",\"#505646\",\"#004489\",\"#ffbf60\",\"#ff018c\",\"#bdc8cf\",\"#af97b5\",\"#b65600\",\"#017000\",\"#cd87ff\",\"#1cd646\",\"#bfebc3\",\"#7997b5\",\"#a56089\",\"#6e8956\",\"#bc7c75\",\"#8a2844\",\"#00acff\",\"#8ed4ff\",\"#4b6d77\",\"#00d4b1\",\"#9300f2\",\"#8a9500\",\"#5d5b9e\",\"#fddfba\",\"#00939e\",\"#ffdb00\",\"#00aa79\",\"#520067\",\"#000091\",\"#0a5d3d\",\"#a5e275\",\"#623b41\",\"#c6c689\",\"#ff9eb5\",\"#cd4f6b\",\"#ff07d6\",\"#8a3a05\",\"#7e3d70\",\"#ff4901\",\"#602ba5\",\"#1c00ff\",\"#e6dfff\",\"#aa3baf\",\"#d89c00\",\"#a3a39e\",\"#3f69ff\",\"#46490c\",\"#7b6985\",\"#6b978c\",\"#ff9a75\",\"#835bff\",\"#7c6b46\",\"#80b654\",\"#bc0049\",\"#fd93ff\",\"#5d0018\",\"#89d1d1\",\"#9c8cd3\",\"#da6d42\",\"#8a5700\",\"#3b5069\",\"#4b6b3b\",\"#edcfd8\",\"#cfedff\",\"#aa1500\",\"#dfff4f\",\"#ff2a56\",\"#d1499e\",\"#707cb8\",\"#598000\",\"#00e4fd\",\"#774b95\",\"#67d48c\",\"#3d3a72\",\"#ac413f\",\"#d6a166\",\"#c169cd\",\"#69595d\",\"#87aced\",\"#a0a569\",\"#d1aae6\",\"#870062\",\"#00fddb\",\"#672818\",\"#b342ff\",\"#0e59c4\",\"#168742\",\"#90d300\",\"#cd7900\",\"#f959ff\",\"#5b7466\",\"#8eaeb3\",\"#9c7c8c\",\"#4600c6\",\"#6b4d2d\",\"#a56d46\",\"#9e8972\",\"#a8afca\",\"#cd8ca7\",\"#00fd64\",\"#917900\",\"#ff62a1\",\"#f4ffd8\",\"#018cf0\",\"#13aca0\",\"#5b2d59\",\"#89859e\",\"#cfccba\",\"#d4afc4\",\"#dbdd6d\",\"#cffff4\",\"#006485\",\"#006962\",\"#a84167\",\"#2d97c4\",\"#a874ff\",\"#26ba5d\",\"#57b600\",\"#caffa7\",\"#a379aa\",\"#ffbc93\",\"#89e2c1\",\"#0fc8ff\",\"#d400c4\",\"#626d89\",\"#69858e\",\"#4b4d52\",\"#aa6067\",\"#79b5d4\",\"#2b5916\",\"#9a0024\",\"#bdd1f2\",\"#896e67\",\"#69a56b\",\"#855467\",\"#aecdba\",\"#87997e\",\"#cadb00\",\"#9a0390\",\"#ebbc1a\",\"#eb9cd1\",\"#70006e\",\"#b1a131\",\"#ca6b93\",\"#4146a3\",\"#e48c89\",\"#d44400\",\"#c68aca\",\"#b69597\",\"#d41f75\",\"#724bcc\",\"#674d00\",\"#672138\",\"#38564f\",\"#6ebaaa\",\"#853a31\",\"#a5d397\",\"#b8af8e\",\"#d8e4df\",\"#aa00df\",\"#cac1db\",\"#ffdf8c\",\"#e2524d\",\"#66696e\",\"#ff001c\",\"#522d72\",\"#4d906b\",\"#a86d11\",\"#ff9e26\",\"#5ea3af\",\"#c88556\",\"#915997\",\"#a3a1ff\",\"#fdbaba\",\"#242a87\",\"#dbe6a8\",\"#97f2a7\",\"#6793d6\",\"#ba5b3f\",\"#3a5d91\",\"#364f2f\",\"#267c95\",\"#89959a\",\"#cfb356\",\"#004664\",\"#5e5d2f\",\"#8e8e41\",\"#ac3f13\",\"#69953b\",\"#a13d85\",\"#bfb6ba\",\"#acc667\",\"#6469cf\",\"#91af00\",\"#2be2da\",\"#016e36\",\"#ff7952\",\"#42807e\",\"#4fe800\",\"#995428\",\"#5d0a00\",\"#a30057\",\"#0c8700\",\"#5982a7\",\"#ffebfb\",\"#4b6901\",\"#8775d4\",\"#e6c6ff\",\"#a5ffda\",\"#d86e77\",\"#df014b\",\"#69675b\",\"#776ba1\",\"#7e8067\",\"#594685\",\"#0000ca\",\"#7c002a\",\"#97ff72\",\"#b5e2e1\",\"#db52c8\",\"#777734\",\"#57bd8e\"]},\"id\":\"5189\",\"type\":\"CategoricalColorMapper\"},{\"attributes\":{\"fill_color\":{\"field\":\"cat\",\"transform\":{\"id\":\"5187\"}},\"line_color\":{\"field\":\"cat\",\"transform\":{\"id\":\"5188\"}},\"x\":{\"field\":\"impact force (mN)\"},\"y\":{\"field\":\"cat\"}},\"id\":\"5211\",\"type\":\"Circle\"}],\"root_ids\":[\"5156\"]},\"title\":\"Bokeh Application\",\"version\":\"2.3.2\"}};\n",
       "  var render_items = [{\"docid\":\"b31cff28-3477-4065-a49f-4c44c6dc31fe\",\"root_ids\":[\"5156\"],\"roots\":{\"5156\":\"5e1a8225-ff5b-40fa-a78e-61f12e6296b9\"}}];\n",
       "  root.Bokeh.embed.embed_items_notebook(docs_json, render_items);\n",
       "\n",
       "  }\n",
       "  if (root.Bokeh !== undefined) {\n",
       "    embed_document(root);\n",
       "  } else {\n",
       "    var attempts = 0;\n",
       "    var timer = setInterval(function(root) {\n",
       "      if (root.Bokeh !== undefined) {\n",
       "        clearInterval(timer);\n",
       "        embed_document(root);\n",
       "      } else {\n",
       "        attempts++;\n",
       "        if (attempts > 100) {\n",
       "          clearInterval(timer);\n",
       "          console.log(\"Bokeh: ERROR: Unable to run BokehJS code because BokehJS library is missing\");\n",
       "        }\n",
       "      }\n",
       "    }, 10, root)\n",
       "  }\n",
       "})(window);"
      ],
      "application/vnd.bokehjs_exec.v0+json": ""
     },
     "metadata": {
      "application/vnd.bokehjs_exec.v0+json": {
       "id": "5156"
      }
     },
     "output_type": "display_data"
    }
   ],
   "source": [
    "figure = iqplot.box(\n",
    "    data=df,\n",
    "    q=\"impact force (mN)\",\n",
    "    cats=\"ID\"\n",
    ")\n",
    "\n",
    "figure.circle(\n",
    "    )\n",
    "\n",
    "bokeh.io.show(figure)"
   ]
  },
  {
   "cell_type": "code",
   "execution_count": 13,
   "metadata": {},
   "outputs": [
    {
     "data": {
      "text/html": [
       "\n",
       "\n",
       "\n",
       "\n",
       "\n",
       "\n",
       "  <div class=\"bk-root\" id=\"8559b810-8782-44a7-bf9e-e687f441d76e\" data-root-id=\"1819\"></div>\n"
      ]
     },
     "metadata": {},
     "output_type": "display_data"
    },
    {
     "data": {
      "application/javascript": [
       "(function(root) {\n",
       "  function embed_document(root) {\n",
       "    \n",
       "  var docs_json = {\"de2a640e-be2d-4375-9ad8-21cfb6e1d081\":{\"defs\":[],\"roots\":{\"references\":[{\"attributes\":{\"below\":[{\"id\":\"1827\"}],\"center\":[{\"id\":\"1830\"},{\"id\":\"1833\"}],\"frame_height\":275,\"frame_width\":375,\"left\":[{\"id\":\"1831\"}],\"renderers\":[{\"id\":\"1856\"},{\"id\":\"1861\"},{\"id\":\"1866\"},{\"id\":\"1871\"},{\"id\":\"1876\"},{\"id\":\"1881\"},{\"id\":\"1890\"}],\"title\":{\"id\":\"1953\"},\"toolbar\":{\"id\":\"1841\"},\"toolbar_location\":\"above\",\"x_range\":{\"id\":\"1820\"},\"x_scale\":{\"id\":\"1823\"},\"y_range\":{\"id\":\"1818\"},\"y_scale\":{\"id\":\"1825\"}},\"id\":\"1819\",\"subtype\":\"Figure\",\"type\":\"Plot\"},{\"attributes\":{\"fill_alpha\":{\"value\":0.1},\"fill_color\":{\"field\":\"cat\",\"transform\":{\"id\":\"1884\"}},\"line_alpha\":{\"value\":0.1},\"line_color\":{\"field\":\"cat\",\"transform\":{\"id\":\"1884\"}},\"x\":{\"field\":\"impact force (mN)\"},\"y\":{\"field\":\"cat\",\"transform\":{\"id\":\"1886\"}}},\"id\":\"1889\",\"type\":\"Circle\"},{\"attributes\":{\"bottom_units\":\"screen\",\"fill_alpha\":0.5,\"fill_color\":\"lightgrey\",\"left_units\":\"screen\",\"level\":\"overlay\",\"line_alpha\":1.0,\"line_color\":\"black\",\"line_dash\":[4,4],\"line_width\":2,\"right_units\":\"screen\",\"syncable\":false,\"top_units\":\"screen\"},\"id\":\"1840\",\"type\":\"BoxAnnotation\"},{\"attributes\":{\"axis_label\":\"impact force (mN)\",\"formatter\":{\"id\":\"1960\"},\"major_label_policy\":{\"id\":\"1959\"},\"ticker\":{\"id\":\"1828\"}},\"id\":\"1827\",\"type\":\"LinearAxis\"},{\"attributes\":{\"data_source\":{\"id\":\"1848\"},\"glyph\":{\"id\":\"1864\"},\"hover_glyph\":null,\"muted_glyph\":null,\"nonselection_glyph\":{\"id\":\"1865\"},\"view\":{\"id\":\"1867\"}},\"id\":\"1866\",\"type\":\"GlyphRenderer\"},{\"attributes\":{},\"id\":\"1956\",\"type\":\"AllLabels\"},{\"attributes\":{\"fill_color\":{\"value\":\"#1f77b4\"},\"height\":{\"value\":0.4},\"left\":{\"field\":\"middle\"},\"line_color\":{\"value\":\"gray\"},\"right\":{\"field\":\"middle\"},\"y\":{\"field\":\"cat\"}},\"id\":\"1879\",\"type\":\"HBar\"},{\"attributes\":{\"source\":{\"id\":\"1885\"}},\"id\":\"1891\",\"type\":\"CDSView\"},{\"attributes\":{},\"id\":\"1828\",\"type\":\"BasicTicker\"},{\"attributes\":{\"line_alpha\":{\"value\":0.1},\"line_color\":{\"value\":\"gray\"},\"x0\":{\"field\":\"bottom\"},\"x1\":{\"field\":\"bottom_whisker\"},\"y0\":{\"field\":\"cat\"},\"y1\":{\"field\":\"cat\"}},\"id\":\"1860\",\"type\":\"Segment\"},{\"attributes\":{},\"id\":\"1832\",\"type\":\"CategoricalTicker\"},{\"attributes\":{\"data_source\":{\"id\":\"1848\"},\"glyph\":{\"id\":\"1859\"},\"hover_glyph\":null,\"muted_glyph\":null,\"nonselection_glyph\":{\"id\":\"1860\"},\"view\":{\"id\":\"1862\"}},\"id\":\"1861\",\"type\":\"GlyphRenderer\"},{\"attributes\":{\"source\":{\"id\":\"1848\"}},\"id\":\"1867\",\"type\":\"CDSView\"},{\"attributes\":{\"axis\":{\"id\":\"1827\"},\"ticker\":null},\"id\":\"1830\",\"type\":\"Grid\"},{\"attributes\":{},\"id\":\"1964\",\"type\":\"UnionRenderers\"},{\"attributes\":{},\"id\":\"1962\",\"type\":\"UnionRenderers\"},{\"attributes\":{\"data_source\":{\"id\":\"1848\"},\"glyph\":{\"id\":\"1879\"},\"hover_glyph\":null,\"muted_glyph\":null,\"nonselection_glyph\":{\"id\":\"1880\"},\"view\":{\"id\":\"1882\"}},\"id\":\"1881\",\"type\":\"GlyphRenderer\"},{\"attributes\":{\"data_source\":{\"id\":\"1848\"},\"glyph\":{\"id\":\"1869\"},\"hover_glyph\":null,\"muted_glyph\":null,\"nonselection_glyph\":{\"id\":\"1870\"},\"view\":{\"id\":\"1872\"}},\"id\":\"1871\",\"type\":\"GlyphRenderer\"},{\"attributes\":{\"factors\":[\"I\",\"II\",\"III\",\"IV\"],\"palette\":[\"#1f77b3\",\"#ff7e0e\",\"#2ba02b\",\"#d62628\",\"#9367bc\",\"#8c564b\",\"#e277c1\",\"#7e7e7e\",\"#bcbc21\",\"#16bdcf\",\"#3a0182\",\"#004201\",\"#0fffa8\",\"#5d003f\",\"#bcbcff\",\"#d8afa1\",\"#b80080\",\"#004d52\",\"#6b6400\",\"#7c0100\",\"#6026ff\",\"#ffff9a\",\"#564964\",\"#8cb893\",\"#93fbff\",\"#018267\",\"#90ff00\",\"#8200a0\",\"#ac8944\",\"#5b3400\",\"#ffbff2\",\"#ff6e75\",\"#798cff\",\"#dd00ff\",\"#505646\",\"#004489\",\"#ffbf60\",\"#ff018c\",\"#bdc8cf\",\"#af97b5\",\"#b65600\",\"#017000\",\"#cd87ff\",\"#1cd646\",\"#bfebc3\",\"#7997b5\",\"#a56089\",\"#6e8956\",\"#bc7c75\",\"#8a2844\",\"#00acff\",\"#8ed4ff\",\"#4b6d77\",\"#00d4b1\",\"#9300f2\",\"#8a9500\",\"#5d5b9e\",\"#fddfba\",\"#00939e\",\"#ffdb00\",\"#00aa79\",\"#520067\",\"#000091\",\"#0a5d3d\",\"#a5e275\",\"#623b41\",\"#c6c689\",\"#ff9eb5\",\"#cd4f6b\",\"#ff07d6\",\"#8a3a05\",\"#7e3d70\",\"#ff4901\",\"#602ba5\",\"#1c00ff\",\"#e6dfff\",\"#aa3baf\",\"#d89c00\",\"#a3a39e\",\"#3f69ff\",\"#46490c\",\"#7b6985\",\"#6b978c\",\"#ff9a75\",\"#835bff\",\"#7c6b46\",\"#80b654\",\"#bc0049\",\"#fd93ff\",\"#5d0018\",\"#89d1d1\",\"#9c8cd3\",\"#da6d42\",\"#8a5700\",\"#3b5069\",\"#4b6b3b\",\"#edcfd8\",\"#cfedff\",\"#aa1500\",\"#dfff4f\",\"#ff2a56\",\"#d1499e\",\"#707cb8\",\"#598000\",\"#00e4fd\",\"#774b95\",\"#67d48c\",\"#3d3a72\",\"#ac413f\",\"#d6a166\",\"#c169cd\",\"#69595d\",\"#87aced\",\"#a0a569\",\"#d1aae6\",\"#870062\",\"#00fddb\",\"#672818\",\"#b342ff\",\"#0e59c4\",\"#168742\",\"#90d300\",\"#cd7900\",\"#f959ff\",\"#5b7466\",\"#8eaeb3\",\"#9c7c8c\",\"#4600c6\",\"#6b4d2d\",\"#a56d46\",\"#9e8972\",\"#a8afca\",\"#cd8ca7\",\"#00fd64\",\"#917900\",\"#ff62a1\",\"#f4ffd8\",\"#018cf0\",\"#13aca0\",\"#5b2d59\",\"#89859e\",\"#cfccba\",\"#d4afc4\",\"#dbdd6d\",\"#cffff4\",\"#006485\",\"#006962\",\"#a84167\",\"#2d97c4\",\"#a874ff\",\"#26ba5d\",\"#57b600\",\"#caffa7\",\"#a379aa\",\"#ffbc93\",\"#89e2c1\",\"#0fc8ff\",\"#d400c4\",\"#626d89\",\"#69858e\",\"#4b4d52\",\"#aa6067\",\"#79b5d4\",\"#2b5916\",\"#9a0024\",\"#bdd1f2\",\"#896e67\",\"#69a56b\",\"#855467\",\"#aecdba\",\"#87997e\",\"#cadb00\",\"#9a0390\",\"#ebbc1a\",\"#eb9cd1\",\"#70006e\",\"#b1a131\",\"#ca6b93\",\"#4146a3\",\"#e48c89\",\"#d44400\",\"#c68aca\",\"#b69597\",\"#d41f75\",\"#724bcc\",\"#674d00\",\"#672138\",\"#38564f\",\"#6ebaaa\",\"#853a31\",\"#a5d397\",\"#b8af8e\",\"#d8e4df\",\"#aa00df\",\"#cac1db\",\"#ffdf8c\",\"#e2524d\",\"#66696e\",\"#ff001c\",\"#522d72\",\"#4d906b\",\"#a86d11\",\"#ff9e26\",\"#5ea3af\",\"#c88556\",\"#915997\",\"#a3a1ff\",\"#fdbaba\",\"#242a87\",\"#dbe6a8\",\"#97f2a7\",\"#6793d6\",\"#ba5b3f\",\"#3a5d91\",\"#364f2f\",\"#267c95\",\"#89959a\",\"#cfb356\",\"#004664\",\"#5e5d2f\",\"#8e8e41\",\"#ac3f13\",\"#69953b\",\"#a13d85\",\"#bfb6ba\",\"#acc667\",\"#6469cf\",\"#91af00\",\"#2be2da\",\"#016e36\",\"#ff7952\",\"#42807e\",\"#4fe800\",\"#995428\",\"#5d0a00\",\"#a30057\",\"#0c8700\",\"#5982a7\",\"#ffebfb\",\"#4b6901\",\"#8775d4\",\"#e6c6ff\",\"#a5ffda\",\"#d86e77\",\"#df014b\",\"#69675b\",\"#776ba1\",\"#7e8067\",\"#594685\",\"#0000ca\",\"#7c002a\",\"#97ff72\",\"#b5e2e1\",\"#db52c8\",\"#777734\",\"#57bd8e\"]},\"id\":\"1884\",\"type\":\"CategoricalColorMapper\"},{\"attributes\":{\"formatter\":{\"id\":\"1957\"},\"major_label_policy\":{\"id\":\"1956\"},\"ticker\":{\"id\":\"1832\"}},\"id\":\"1831\",\"type\":\"CategoricalAxis\"},{\"attributes\":{\"source\":{\"id\":\"1848\"}},\"id\":\"1872\",\"type\":\"CDSView\"},{\"attributes\":{\"data\":{\"__label\":[\"I\",\"II\",\"III\",\"IV\"],\"bottom\":[1231.25,422.0,458.75,198.0],\"bottom_whisker\":[473.0,245.0,324.0,22.0],\"cat\":[\"I\",\"II\",\"III\",\"IV\"],\"middle\":[1550.5,573.0,544.0,460.5],\"top\":[1904.75,799.75,615.75,599.0],\"top_whisker\":[2641.0,1182.0,806.0,815.0]},\"selected\":{\"id\":\"1963\"},\"selection_policy\":{\"id\":\"1962\"}},\"id\":\"1848\",\"type\":\"ColumnDataSource\"},{\"attributes\":{},\"id\":\"1963\",\"type\":\"Selection\"},{\"attributes\":{\"fill_color\":{\"value\":\"#1f77b4\"},\"height\":{\"value\":0.1},\"left\":{\"field\":\"bottom_whisker\"},\"line_color\":{\"value\":\"gray\"},\"right\":{\"field\":\"bottom_whisker\"},\"y\":{\"field\":\"cat\"}},\"id\":\"1869\",\"type\":\"HBar\"},{\"attributes\":{},\"id\":\"1825\",\"type\":\"CategoricalScale\"},{\"attributes\":{},\"id\":\"1965\",\"type\":\"Selection\"},{\"attributes\":{\"fill_color\":{\"field\":\"cat\",\"transform\":{\"id\":\"1884\"}},\"line_color\":{\"field\":\"cat\",\"transform\":{\"id\":\"1884\"}},\"x\":{\"field\":\"impact force (mN)\"},\"y\":{\"field\":\"cat\",\"transform\":{\"id\":\"1886\"}}},\"id\":\"1888\",\"type\":\"Circle\"},{\"attributes\":{},\"id\":\"1960\",\"type\":\"BasicTickFormatter\"},{\"attributes\":{\"source\":{\"id\":\"1848\"}},\"id\":\"1857\",\"type\":\"CDSView\"},{\"attributes\":{\"axis\":{\"id\":\"1831\"},\"dimension\":1,\"grid_line_color\":null,\"ticker\":null},\"id\":\"1833\",\"type\":\"Grid\"},{\"attributes\":{\"fill_alpha\":{\"value\":0.1},\"fill_color\":{\"value\":\"#1f77b4\"},\"height\":{\"value\":0.1},\"left\":{\"field\":\"bottom_whisker\"},\"line_alpha\":{\"value\":0.1},\"line_color\":{\"value\":\"gray\"},\"right\":{\"field\":\"bottom_whisker\"},\"y\":{\"field\":\"cat\"}},\"id\":\"1870\",\"type\":\"HBar\"},{\"attributes\":{},\"id\":\"1953\",\"type\":\"Title\"},{\"attributes\":{\"fill_alpha\":{\"value\":0.1},\"fill_color\":{\"value\":\"#1f77b4\"},\"height\":{\"value\":0.1},\"left\":{\"field\":\"top_whisker\"},\"line_alpha\":{\"value\":0.1},\"line_color\":{\"value\":\"gray\"},\"right\":{\"field\":\"top_whisker\"},\"y\":{\"field\":\"cat\"}},\"id\":\"1865\",\"type\":\"HBar\"},{\"attributes\":{},\"id\":\"1820\",\"type\":\"DataRange1d\"},{\"attributes\":{\"fill_color\":{\"value\":\"#1f77b4\"},\"height\":{\"value\":0.1},\"left\":{\"field\":\"top_whisker\"},\"line_color\":{\"value\":\"gray\"},\"right\":{\"field\":\"top_whisker\"},\"y\":{\"field\":\"cat\"}},\"id\":\"1864\",\"type\":\"HBar\"},{\"attributes\":{\"line_color\":{\"value\":\"gray\"},\"x0\":{\"field\":\"top\"},\"x1\":{\"field\":\"top_whisker\"},\"y0\":{\"field\":\"cat\"},\"y1\":{\"field\":\"cat\"}},\"id\":\"1854\",\"type\":\"Segment\"},{\"attributes\":{},\"id\":\"1834\",\"type\":\"PanTool\"},{\"attributes\":{},\"id\":\"1959\",\"type\":\"AllLabels\"},{\"attributes\":{\"line_color\":{\"value\":\"gray\"},\"x0\":{\"field\":\"bottom\"},\"x1\":{\"field\":\"bottom_whisker\"},\"y0\":{\"field\":\"cat\"},\"y1\":{\"field\":\"cat\"}},\"id\":\"1859\",\"type\":\"Segment\"},{\"attributes\":{\"data\":{\"ID\":[\"I\",\"I\",\"I\",\"I\",\"I\",\"I\",\"I\",\"I\",\"I\",\"I\",\"I\",\"I\",\"I\",\"I\",\"I\",\"I\",\"I\",\"I\",\"I\",\"I\",\"II\",\"II\",\"II\",\"II\",\"II\",\"II\",\"II\",\"II\",\"II\",\"II\",\"II\",\"II\",\"II\",\"II\",\"II\",\"II\",\"II\",\"II\",\"II\",\"II\",\"III\",\"III\",\"III\",\"III\",\"III\",\"III\",\"III\",\"III\",\"III\",\"III\",\"III\",\"III\",\"III\",\"III\",\"III\",\"III\",\"III\",\"III\",\"III\",\"III\",\"IV\",\"IV\",\"IV\",\"IV\",\"IV\",\"IV\",\"IV\",\"IV\",\"IV\",\"IV\",\"IV\",\"IV\",\"IV\",\"IV\",\"IV\",\"IV\",\"IV\",\"IV\",\"IV\",\"IV\"],\"__label\":[\"I\",\"I\",\"I\",\"I\",\"I\",\"I\",\"I\",\"I\",\"I\",\"I\",\"I\",\"I\",\"I\",\"I\",\"I\",\"I\",\"I\",\"I\",\"I\",\"I\",\"II\",\"II\",\"II\",\"II\",\"II\",\"II\",\"II\",\"II\",\"II\",\"II\",\"II\",\"II\",\"II\",\"II\",\"II\",\"II\",\"II\",\"II\",\"II\",\"II\",\"III\",\"III\",\"III\",\"III\",\"III\",\"III\",\"III\",\"III\",\"III\",\"III\",\"III\",\"III\",\"III\",\"III\",\"III\",\"III\",\"III\",\"III\",\"III\",\"III\",\"IV\",\"IV\",\"IV\",\"IV\",\"IV\",\"IV\",\"IV\",\"IV\",\"IV\",\"IV\",\"IV\",\"IV\",\"IV\",\"IV\",\"IV\",\"IV\",\"IV\",\"IV\",\"IV\",\"IV\"],\"cat\":[\"I\",\"I\",\"I\",\"I\",\"I\",\"I\",\"I\",\"I\",\"I\",\"I\",\"I\",\"I\",\"I\",\"I\",\"I\",\"I\",\"I\",\"I\",\"I\",\"I\",\"II\",\"II\",\"II\",\"II\",\"II\",\"II\",\"II\",\"II\",\"II\",\"II\",\"II\",\"II\",\"II\",\"II\",\"II\",\"II\",\"II\",\"II\",\"II\",\"II\",\"III\",\"III\",\"III\",\"III\",\"III\",\"III\",\"III\",\"III\",\"III\",\"III\",\"III\",\"III\",\"III\",\"III\",\"III\",\"III\",\"III\",\"III\",\"III\",\"III\",\"IV\",\"IV\",\"IV\",\"IV\",\"IV\",\"IV\",\"IV\",\"IV\",\"IV\",\"IV\",\"IV\",\"IV\",\"IV\",\"IV\",\"IV\",\"IV\",\"IV\",\"IV\",\"IV\",\"IV\"],\"impact force (mN)\":[1205,2527,1745,1556,493,2276,556,1928,2641,1897,1891,1545,1307,1692,1543,1282,775,2032,1240,473,1612,605,327,946,541,1539,529,628,1453,297,703,269,751,245,1182,515,435,383,457,730,614,414,324,776,611,544,538,579,806,459,458,626,621,544,535,385,401,614,665,488,172,142,37,453,355,22,502,273,720,582,198,198,597,516,815,402,605,711,614,468]},\"selected\":{\"id\":\"1965\"},\"selection_policy\":{\"id\":\"1964\"}},\"id\":\"1885\",\"type\":\"ColumnDataSource\"},{\"attributes\":{\"factors\":[\"IV\",\"III\",\"II\",\"I\"]},\"id\":\"1818\",\"type\":\"FactorRange\"},{\"attributes\":{\"data_source\":{\"id\":\"1848\"},\"glyph\":{\"id\":\"1874\"},\"hover_glyph\":null,\"muted_glyph\":null,\"nonselection_glyph\":{\"id\":\"1875\"},\"view\":{\"id\":\"1877\"}},\"id\":\"1876\",\"type\":\"GlyphRenderer\"},{\"attributes\":{},\"id\":\"1957\",\"type\":\"CategoricalTickFormatter\"},{\"attributes\":{\"fill_alpha\":{\"value\":0.1},\"fill_color\":{\"field\":\"cat\",\"transform\":{\"id\":\"1852\"}},\"height\":{\"value\":0.4},\"left\":{\"field\":\"bottom\"},\"line_alpha\":{\"value\":0.1},\"line_color\":{\"value\":\"gray\"},\"right\":{\"field\":\"top\"},\"y\":{\"field\":\"cat\"}},\"id\":\"1875\",\"type\":\"HBar\"},{\"attributes\":{\"fill_alpha\":{\"value\":0},\"fill_color\":{\"field\":\"cat\",\"transform\":{\"id\":\"1852\"}},\"height\":{\"value\":0.4},\"left\":{\"field\":\"bottom\"},\"line_color\":{\"value\":\"gray\"},\"right\":{\"field\":\"top\"},\"y\":{\"field\":\"cat\"}},\"id\":\"1874\",\"type\":\"HBar\"},{\"attributes\":{},\"id\":\"1835\",\"type\":\"WheelZoomTool\"},{\"attributes\":{\"source\":{\"id\":\"1848\"}},\"id\":\"1877\",\"type\":\"CDSView\"},{\"attributes\":{\"overlay\":{\"id\":\"1840\"}},\"id\":\"1836\",\"type\":\"BoxZoomTool\"},{\"attributes\":{},\"id\":\"1823\",\"type\":\"LinearScale\"},{\"attributes\":{\"line_alpha\":{\"value\":0.1},\"line_color\":{\"value\":\"gray\"},\"x0\":{\"field\":\"top\"},\"x1\":{\"field\":\"top_whisker\"},\"y0\":{\"field\":\"cat\"},\"y1\":{\"field\":\"cat\"}},\"id\":\"1855\",\"type\":\"Segment\"},{\"attributes\":{},\"id\":\"1837\",\"type\":\"SaveTool\"},{\"attributes\":{\"fill_alpha\":{\"value\":0.1},\"fill_color\":{\"value\":\"#1f77b4\"},\"height\":{\"value\":0.4},\"left\":{\"field\":\"middle\"},\"line_alpha\":{\"value\":0.1},\"line_color\":{\"value\":\"gray\"},\"right\":{\"field\":\"middle\"},\"y\":{\"field\":\"cat\"}},\"id\":\"1880\",\"type\":\"HBar\"},{\"attributes\":{\"factors\":[\"I\",\"II\",\"III\",\"IV\"],\"palette\":[\"#1f77b3\",\"#ff7e0e\",\"#2ba02b\",\"#d62628\",\"#9367bc\",\"#8c564b\",\"#e277c1\",\"#7e7e7e\",\"#bcbc21\",\"#16bdcf\",\"#3a0182\",\"#004201\",\"#0fffa8\",\"#5d003f\",\"#bcbcff\",\"#d8afa1\",\"#b80080\",\"#004d52\",\"#6b6400\",\"#7c0100\",\"#6026ff\",\"#ffff9a\",\"#564964\",\"#8cb893\",\"#93fbff\",\"#018267\",\"#90ff00\",\"#8200a0\",\"#ac8944\",\"#5b3400\",\"#ffbff2\",\"#ff6e75\",\"#798cff\",\"#dd00ff\",\"#505646\",\"#004489\",\"#ffbf60\",\"#ff018c\",\"#bdc8cf\",\"#af97b5\",\"#b65600\",\"#017000\",\"#cd87ff\",\"#1cd646\",\"#bfebc3\",\"#7997b5\",\"#a56089\",\"#6e8956\",\"#bc7c75\",\"#8a2844\",\"#00acff\",\"#8ed4ff\",\"#4b6d77\",\"#00d4b1\",\"#9300f2\",\"#8a9500\",\"#5d5b9e\",\"#fddfba\",\"#00939e\",\"#ffdb00\",\"#00aa79\",\"#520067\",\"#000091\",\"#0a5d3d\",\"#a5e275\",\"#623b41\",\"#c6c689\",\"#ff9eb5\",\"#cd4f6b\",\"#ff07d6\",\"#8a3a05\",\"#7e3d70\",\"#ff4901\",\"#602ba5\",\"#1c00ff\",\"#e6dfff\",\"#aa3baf\",\"#d89c00\",\"#a3a39e\",\"#3f69ff\",\"#46490c\",\"#7b6985\",\"#6b978c\",\"#ff9a75\",\"#835bff\",\"#7c6b46\",\"#80b654\",\"#bc0049\",\"#fd93ff\",\"#5d0018\",\"#89d1d1\",\"#9c8cd3\",\"#da6d42\",\"#8a5700\",\"#3b5069\",\"#4b6b3b\",\"#edcfd8\",\"#cfedff\",\"#aa1500\",\"#dfff4f\",\"#ff2a56\",\"#d1499e\",\"#707cb8\",\"#598000\",\"#00e4fd\",\"#774b95\",\"#67d48c\",\"#3d3a72\",\"#ac413f\",\"#d6a166\",\"#c169cd\",\"#69595d\",\"#87aced\",\"#a0a569\",\"#d1aae6\",\"#870062\",\"#00fddb\",\"#672818\",\"#b342ff\",\"#0e59c4\",\"#168742\",\"#90d300\",\"#cd7900\",\"#f959ff\",\"#5b7466\",\"#8eaeb3\",\"#9c7c8c\",\"#4600c6\",\"#6b4d2d\",\"#a56d46\",\"#9e8972\",\"#a8afca\",\"#cd8ca7\",\"#00fd64\",\"#917900\",\"#ff62a1\",\"#f4ffd8\",\"#018cf0\",\"#13aca0\",\"#5b2d59\",\"#89859e\",\"#cfccba\",\"#d4afc4\",\"#dbdd6d\",\"#cffff4\",\"#006485\",\"#006962\",\"#a84167\",\"#2d97c4\",\"#a874ff\",\"#26ba5d\",\"#57b600\",\"#caffa7\",\"#a379aa\",\"#ffbc93\",\"#89e2c1\",\"#0fc8ff\",\"#d400c4\",\"#626d89\",\"#69858e\",\"#4b4d52\",\"#aa6067\",\"#79b5d4\",\"#2b5916\",\"#9a0024\",\"#bdd1f2\",\"#896e67\",\"#69a56b\",\"#855467\",\"#aecdba\",\"#87997e\",\"#cadb00\",\"#9a0390\",\"#ebbc1a\",\"#eb9cd1\",\"#70006e\",\"#b1a131\",\"#ca6b93\",\"#4146a3\",\"#e48c89\",\"#d44400\",\"#c68aca\",\"#b69597\",\"#d41f75\",\"#724bcc\",\"#674d00\",\"#672138\",\"#38564f\",\"#6ebaaa\",\"#853a31\",\"#a5d397\",\"#b8af8e\",\"#d8e4df\",\"#aa00df\",\"#cac1db\",\"#ffdf8c\",\"#e2524d\",\"#66696e\",\"#ff001c\",\"#522d72\",\"#4d906b\",\"#a86d11\",\"#ff9e26\",\"#5ea3af\",\"#c88556\",\"#915997\",\"#a3a1ff\",\"#fdbaba\",\"#242a87\",\"#dbe6a8\",\"#97f2a7\",\"#6793d6\",\"#ba5b3f\",\"#3a5d91\",\"#364f2f\",\"#267c95\",\"#89959a\",\"#cfb356\",\"#004664\",\"#5e5d2f\",\"#8e8e41\",\"#ac3f13\",\"#69953b\",\"#a13d85\",\"#bfb6ba\",\"#acc667\",\"#6469cf\",\"#91af00\",\"#2be2da\",\"#016e36\",\"#ff7952\",\"#42807e\",\"#4fe800\",\"#995428\",\"#5d0a00\",\"#a30057\",\"#0c8700\",\"#5982a7\",\"#ffebfb\",\"#4b6901\",\"#8775d4\",\"#e6c6ff\",\"#a5ffda\",\"#d86e77\",\"#df014b\",\"#69675b\",\"#776ba1\",\"#7e8067\",\"#594685\",\"#0000ca\",\"#7c002a\",\"#97ff72\",\"#b5e2e1\",\"#db52c8\",\"#777734\",\"#57bd8e\"]},\"id\":\"1852\",\"type\":\"CategoricalColorMapper\"},{\"attributes\":{},\"id\":\"1838\",\"type\":\"ResetTool\"},{\"attributes\":{\"distribution\":\"normal\",\"range\":{\"id\":\"1818\"},\"width\":0.1},\"id\":\"1886\",\"type\":\"Jitter\"},{\"attributes\":{\"data_source\":{\"id\":\"1848\"},\"glyph\":{\"id\":\"1854\"},\"hover_glyph\":null,\"muted_glyph\":null,\"nonselection_glyph\":{\"id\":\"1855\"},\"view\":{\"id\":\"1857\"}},\"id\":\"1856\",\"type\":\"GlyphRenderer\"},{\"attributes\":{\"source\":{\"id\":\"1848\"}},\"id\":\"1862\",\"type\":\"CDSView\"},{\"attributes\":{},\"id\":\"1839\",\"type\":\"HelpTool\"},{\"attributes\":{\"source\":{\"id\":\"1848\"}},\"id\":\"1882\",\"type\":\"CDSView\"},{\"attributes\":{\"data_source\":{\"id\":\"1885\"},\"glyph\":{\"id\":\"1888\"},\"hover_glyph\":null,\"muted_glyph\":null,\"nonselection_glyph\":{\"id\":\"1889\"},\"view\":{\"id\":\"1891\"}},\"id\":\"1890\",\"type\":\"GlyphRenderer\"},{\"attributes\":{\"active_multi\":null,\"tools\":[{\"id\":\"1834\"},{\"id\":\"1835\"},{\"id\":\"1836\"},{\"id\":\"1837\"},{\"id\":\"1838\"},{\"id\":\"1839\"}]},\"id\":\"1841\",\"type\":\"Toolbar\"}],\"root_ids\":[\"1819\"]},\"title\":\"Bokeh Application\",\"version\":\"2.3.2\"}};\n",
       "  var render_items = [{\"docid\":\"de2a640e-be2d-4375-9ad8-21cfb6e1d081\",\"root_ids\":[\"1819\"],\"roots\":{\"1819\":\"8559b810-8782-44a7-bf9e-e687f441d76e\"}}];\n",
       "  root.Bokeh.embed.embed_items_notebook(docs_json, render_items);\n",
       "\n",
       "  }\n",
       "  if (root.Bokeh !== undefined) {\n",
       "    embed_document(root);\n",
       "  } else {\n",
       "    var attempts = 0;\n",
       "    var timer = setInterval(function(root) {\n",
       "      if (root.Bokeh !== undefined) {\n",
       "        clearInterval(timer);\n",
       "        embed_document(root);\n",
       "      } else {\n",
       "        attempts++;\n",
       "        if (attempts > 100) {\n",
       "          clearInterval(timer);\n",
       "          console.log(\"Bokeh: ERROR: Unable to run BokehJS code because BokehJS library is missing\");\n",
       "        }\n",
       "      }\n",
       "    }, 10, root)\n",
       "  }\n",
       "})(window);"
      ],
      "application/vnd.bokehjs_exec.v0+json": ""
     },
     "metadata": {
      "application/vnd.bokehjs_exec.v0+json": {
       "id": "1819"
      }
     },
     "output_type": "display_data"
    }
   ],
   "source": [
    "figure = iqplot.stripbox(\n",
    "    data=df,\n",
    "    q=\"impact force (mN)\",\n",
    "    cats=\"ID\",\n",
    "    jitter=True\n",
    ")\n",
    "\n",
    "bokeh.io.show(figure)"
   ]
  },
  {
   "cell_type": "code",
   "execution_count": 20,
   "metadata": {},
   "outputs": [
    {
     "data": {
      "text/html": [
       "\n",
       "\n",
       "\n",
       "\n",
       "\n",
       "\n",
       "  <div class=\"bk-root\" id=\"c3221e22-a341-49c5-b7c4-09d1f6415ddd\" data-root-id=\"3705\"></div>\n"
      ]
     },
     "metadata": {},
     "output_type": "display_data"
    },
    {
     "data": {
      "application/javascript": [
       "(function(root) {\n",
       "  function embed_document(root) {\n",
       "    \n",
       "  var docs_json = {\"74cf1634-d7e8-4180-a959-3214131dbc7a\":{\"defs\":[],\"roots\":{\"references\":[{\"attributes\":{\"below\":[{\"id\":\"3713\"}],\"center\":[{\"id\":\"3716\"},{\"id\":\"3720\"}],\"frame_height\":275,\"frame_width\":375,\"left\":[{\"id\":\"3717\"}],\"renderers\":[{\"id\":\"3738\"},{\"id\":\"3743\"},{\"id\":\"3748\"},{\"id\":\"3753\"},{\"id\":\"3758\"},{\"id\":\"3763\"},{\"id\":\"3768\"},{\"id\":\"3773\"},{\"id\":\"3778\"},{\"id\":\"3783\"},{\"id\":\"3788\"},{\"id\":\"3793\"}],\"right\":[{\"id\":\"3795\"}],\"title\":{\"id\":\"4006\"},\"toolbar\":{\"id\":\"3728\"},\"toolbar_location\":\"above\",\"x_range\":{\"id\":\"3706\"},\"x_scale\":{\"id\":\"3709\"},\"y_range\":{\"id\":\"3704\"},\"y_scale\":{\"id\":\"3711\"}},\"id\":\"3705\",\"subtype\":\"Figure\",\"type\":\"Plot\"},{\"attributes\":{\"axis\":{\"id\":\"3717\"},\"dimension\":1,\"ticker\":null},\"id\":\"3720\",\"type\":\"Grid\"},{\"attributes\":{\"label\":{\"value\":\"III\"},\"renderers\":[{\"id\":\"3758\"},{\"id\":\"3763\"}]},\"id\":\"3798\",\"type\":\"LegendItem\"},{\"attributes\":{\"line_alpha\":{\"value\":0.1},\"line_color\":{\"value\":\"#d62628\"},\"line_width\":{\"value\":0.5},\"xs\":{\"field\":\"xs\"},\"ys\":{\"field\":\"ys\"}},\"id\":\"3792\",\"type\":\"MultiLine\"},{\"attributes\":{\"line_alpha\":0.1,\"line_color\":\"#1f77b3\",\"line_width\":2,\"x\":{\"field\":\"x\"},\"y\":{\"field\":\"y\"}},\"id\":\"3737\",\"type\":\"Line\"},{\"attributes\":{\"data_source\":{\"id\":\"3790\"},\"glyph\":{\"id\":\"3791\"},\"hover_glyph\":null,\"muted_glyph\":null,\"nonselection_glyph\":{\"id\":\"3792\"},\"view\":{\"id\":\"3794\"}},\"id\":\"3793\",\"type\":\"GlyphRenderer\"},{\"attributes\":{},\"id\":\"3721\",\"type\":\"PanTool\"},{\"attributes\":{\"source\":{\"id\":\"3790\"}},\"id\":\"3794\",\"type\":\"CDSView\"},{\"attributes\":{},\"id\":\"4009\",\"type\":\"AllLabels\"},{\"attributes\":{\"label\":{\"value\":\"IV\"},\"renderers\":[{\"id\":\"3768\"},{\"id\":\"3773\"}]},\"id\":\"3799\",\"type\":\"LegendItem\"},{\"attributes\":{},\"id\":\"3722\",\"type\":\"WheelZoomTool\"},{\"attributes\":{},\"id\":\"4010\",\"type\":\"BasicTickFormatter\"},{\"attributes\":{\"overlay\":{\"id\":\"3727\"}},\"id\":\"3723\",\"type\":\"BoxZoomTool\"},{\"attributes\":{},\"id\":\"4012\",\"type\":\"AllLabels\"},{\"attributes\":{},\"id\":\"3724\",\"type\":\"SaveTool\"},{\"attributes\":{},\"id\":\"4013\",\"type\":\"BasicTickFormatter\"},{\"attributes\":{\"bottom_units\":\"screen\",\"fill_alpha\":0.5,\"fill_color\":\"lightgrey\",\"left_units\":\"screen\",\"level\":\"overlay\",\"line_alpha\":1.0,\"line_color\":\"black\",\"line_dash\":[4,4],\"line_width\":2,\"right_units\":\"screen\",\"syncable\":false,\"top_units\":\"screen\"},\"id\":\"3727\",\"type\":\"BoxAnnotation\"},{\"attributes\":{},\"id\":\"3725\",\"type\":\"ResetTool\"},{\"attributes\":{},\"id\":\"4015\",\"type\":\"UnionRenderers\"},{\"attributes\":{},\"id\":\"4016\",\"type\":\"Selection\"},{\"attributes\":{},\"id\":\"3726\",\"type\":\"HelpTool\"},{\"attributes\":{},\"id\":\"4017\",\"type\":\"UnionRenderers\"},{\"attributes\":{\"label\":{\"value\":\"I\"},\"renderers\":[{\"id\":\"3738\"},{\"id\":\"3743\"}]},\"id\":\"3796\",\"type\":\"LegendItem\"},{\"attributes\":{},\"id\":\"4018\",\"type\":\"Selection\"},{\"attributes\":{\"active_multi\":null,\"tools\":[{\"id\":\"3721\"},{\"id\":\"3722\"},{\"id\":\"3723\"},{\"id\":\"3724\"},{\"id\":\"3725\"},{\"id\":\"3726\"}]},\"id\":\"3728\",\"type\":\"Toolbar\"},{\"attributes\":{},\"id\":\"4019\",\"type\":\"UnionRenderers\"},{\"attributes\":{\"data\":{\"x\":{\"__ndarray__\":\"AAAAAACQfUAAAAAAAJB9QGZmZmZmjoVAZmZmZmaOhUDNzMzMzFSMQM3MzMzMVIxAmpmZmZmNkUCamZmZmY2RQM3MzMzM8JRAzczMzMzwlEAAAAAAAFSYQAAAAAAAVJhANDMzMzO3m0A0MzMzM7ebQGdmZmZmGp9AZ2ZmZmYan0DNzMzMzD6hQM3MzMzMPqFAZmZmZmbwokBmZmZmZvCiQAAAAAAAoqRAAAAAAACipEAAAAAAAKKkQAAAAAAAkH1A\",\"dtype\":\"float64\",\"order\":\"little\",\"shape\":[24]},\"y\":{\"__ndarray__\":\"AAAAAAAAAAAAAAAAAAAIQAAAAAAAAAhAAAAAAAAA8D8AAAAAAADwPwAAAAAAAAAAAAAAAAAAAAAAAAAAAAAQQAAAAAAAABBAAAAAAAAACEAAAAAAAAAIQAAAAAAAAABAAAAAAAAAAEAAAAAAAAAIQAAAAAAAAAhAAAAAAAAA8D8AAAAAAADwPwAAAAAAAPA/AAAAAAAA8D8AAAAAAAAAQAAAAAAAAABAAAAAAAAAAAAAAAAAAAAAAAAAAAAAAAAA\",\"dtype\":\"float64\",\"order\":\"little\",\"shape\":[24]}},\"selected\":{\"id\":\"4018\"},\"selection_policy\":{\"id\":\"4017\"}},\"id\":\"3740\",\"type\":\"ColumnDataSource\"},{\"attributes\":{},\"id\":\"4020\",\"type\":\"Selection\"},{\"attributes\":{\"label\":{\"value\":\"II\"},\"renderers\":[{\"id\":\"3748\"},{\"id\":\"3753\"}]},\"id\":\"3797\",\"type\":\"LegendItem\"},{\"attributes\":{},\"id\":\"4021\",\"type\":\"UnionRenderers\"},{\"attributes\":{},\"id\":\"4022\",\"type\":\"Selection\"},{\"attributes\":{},\"id\":\"4023\",\"type\":\"UnionRenderers\"},{\"attributes\":{\"line_color\":\"#2ba02b\",\"line_width\":2,\"x\":{\"field\":\"x\"},\"y\":{\"field\":\"y\"}},\"id\":\"3756\",\"type\":\"Line\"},{\"attributes\":{\"data\":{\"x\":{\"__ndarray__\":\"AAAAAACgbkAAAAAAAKBuQDMzMzMz23dAMzMzMzPbd0AzMzMzMzOAQDMzMzMzM4BAzMzMzMx4hEDMzMzMzHiEQGZmZmZmvohAZmZmZma+iEAAAAAAAASNQAAAAAAABI1AzMzMzMykkEDMzMzMzKSQQJmZmZmZx5JAmZmZmZnHkkBmZmZmZuqUQGZmZmZm6pRAMzMzMzMNl0AzMzMzMw2XQAAAAAAAMJlAAAAAAAAwmUA=\",\"dtype\":\"float64\",\"order\":\"little\",\"shape\":[22]},\"y\":{\"__ndarray__\":\"AAAAAAAAAAAAAAAAAAAQQAAAAAAAABBAAAAAAAAAEEAAAAAAAAAQQAAAAAAAABBAAAAAAAAAEEAAAAAAAAAIQAAAAAAAAAhAAAAAAAAAAAAAAAAAAAAAAAAAAAAAAPA/AAAAAAAA8D8AAAAAAADwPwAAAAAAAPA/AAAAAAAAAAAAAAAAAAAAAAAAAAAAAPA/AAAAAAAA8D8AAAAAAAAAQAAAAAAAAABAAAAAAAAAAAA=\",\"dtype\":\"float64\",\"order\":\"little\",\"shape\":[22]}},\"selected\":{\"id\":\"4020\"},\"selection_policy\":{\"id\":\"4019\"}},\"id\":\"3745\",\"type\":\"ColumnDataSource\"},{\"attributes\":{},\"id\":\"4024\",\"type\":\"Selection\"},{\"attributes\":{},\"id\":\"4025\",\"type\":\"UnionRenderers\"},{\"attributes\":{\"data\":{\"x\":{\"__ndarray__\":\"AAAAAACQfUAAAAAAAJB9QGZmZmZmjoVAZmZmZmaOhUDNzMzMzFSMQM3MzMzMVIxAmpmZmZmNkUCamZmZmY2RQM3MzMzM8JRAzczMzMzwlEAAAAAAAFSYQAAAAAAAVJhANDMzMzO3m0A0MzMzM7ebQGdmZmZmGp9AZ2ZmZmYan0DNzMzMzD6hQM3MzMzMPqFAZmZmZmbwokBmZmZmZvCiQAAAAAAAoqRAAAAAAACipEA=\",\"dtype\":\"float64\",\"order\":\"little\",\"shape\":[22]},\"y\":{\"__ndarray__\":\"AAAAAAAAAAAAAAAAAAAIQAAAAAAAAAhAAAAAAAAA8D8AAAAAAADwPwAAAAAAAAAAAAAAAAAAAAAAAAAAAAAQQAAAAAAAABBAAAAAAAAACEAAAAAAAAAIQAAAAAAAAABAAAAAAAAAAEAAAAAAAAAIQAAAAAAAAAhAAAAAAAAA8D8AAAAAAADwPwAAAAAAAPA/AAAAAAAA8D8AAAAAAAAAQAAAAAAAAABAAAAAAAAAAAA=\",\"dtype\":\"float64\",\"order\":\"little\",\"shape\":[22]}},\"selected\":{\"id\":\"4016\"},\"selection_policy\":{\"id\":\"4015\"}},\"id\":\"3735\",\"type\":\"ColumnDataSource\"},{\"attributes\":{},\"id\":\"4026\",\"type\":\"Selection\"},{\"attributes\":{},\"id\":\"4038\",\"type\":\"Selection\"},{\"attributes\":{},\"id\":\"4027\",\"type\":\"UnionRenderers\"},{\"attributes\":{\"data_source\":{\"id\":\"3735\"},\"glyph\":{\"id\":\"3736\"},\"hover_glyph\":null,\"muted_glyph\":null,\"nonselection_glyph\":{\"id\":\"3737\"},\"view\":{\"id\":\"3739\"}},\"id\":\"3738\",\"type\":\"GlyphRenderer\"},{\"attributes\":{\"line_color\":\"#1f77b3\",\"line_width\":2,\"x\":{\"field\":\"x\"},\"y\":{\"field\":\"y\"}},\"id\":\"3736\",\"type\":\"Line\"},{\"attributes\":{},\"id\":\"4028\",\"type\":\"Selection\"},{\"attributes\":{},\"id\":\"4029\",\"type\":\"UnionRenderers\"},{\"attributes\":{\"data\":{\"x\":{\"__ndarray__\":\"AAAAAACgbkAAAAAAAKBuQDMzMzMz23dAMzMzMzPbd0AzMzMzMzOAQDMzMzMzM4BAzMzMzMx4hEDMzMzMzHiEQGZmZmZmvohAZmZmZma+iEAAAAAAAASNQAAAAAAABI1AzMzMzMykkEDMzMzMzKSQQJmZmZmZx5JAmZmZmZnHkkBmZmZmZuqUQGZmZmZm6pRAMzMzMzMNl0AzMzMzMw2XQAAAAAAAMJlAAAAAAAAwmUAAAAAAADCZQAAAAAAAoG5A\",\"dtype\":\"float64\",\"order\":\"little\",\"shape\":[24]},\"y\":{\"__ndarray__\":\"AAAAAAAAAAAAAAAAAAAQQAAAAAAAABBAAAAAAAAAEEAAAAAAAAAQQAAAAAAAABBAAAAAAAAAEEAAAAAAAAAIQAAAAAAAAAhAAAAAAAAAAAAAAAAAAAAAAAAAAAAAAPA/AAAAAAAA8D8AAAAAAADwPwAAAAAAAPA/AAAAAAAAAAAAAAAAAAAAAAAAAAAAAPA/AAAAAAAA8D8AAAAAAAAAQAAAAAAAAABAAAAAAAAAAAAAAAAAAAAAAAAAAAAAAAAA\",\"dtype\":\"float64\",\"order\":\"little\",\"shape\":[24]}},\"selected\":{\"id\":\"4022\"},\"selection_policy\":{\"id\":\"4021\"}},\"id\":\"3750\",\"type\":\"ColumnDataSource\"},{\"attributes\":{\"source\":{\"id\":\"3735\"}},\"id\":\"3739\",\"type\":\"CDSView\"},{\"attributes\":{},\"id\":\"4030\",\"type\":\"Selection\"},{\"attributes\":{\"data_source\":{\"id\":\"3740\"},\"glyph\":{\"id\":\"3741\"},\"hover_glyph\":null,\"muted_glyph\":null,\"nonselection_glyph\":{\"id\":\"3742\"},\"view\":{\"id\":\"3744\"}},\"id\":\"3743\",\"type\":\"GlyphRenderer\"},{\"attributes\":{\"fill_alpha\":0.3,\"fill_color\":\"#1f77b3\",\"line_alpha\":0,\"line_color\":\"#1f77b3\",\"x\":{\"field\":\"x\"},\"y\":{\"field\":\"y\"}},\"id\":\"3741\",\"type\":\"Patch\"},{\"attributes\":{},\"id\":\"4031\",\"type\":\"UnionRenderers\"},{\"attributes\":{\"fill_alpha\":0.1,\"fill_color\":\"#ff7e0e\",\"line_alpha\":0.1,\"line_color\":\"#ff7e0e\",\"x\":{\"field\":\"x\"},\"y\":{\"field\":\"y\"}},\"id\":\"3752\",\"type\":\"Patch\"},{\"attributes\":{\"source\":{\"id\":\"3740\"}},\"id\":\"3744\",\"type\":\"CDSView\"},{\"attributes\":{},\"id\":\"4032\",\"type\":\"Selection\"},{\"attributes\":{\"fill_alpha\":0.1,\"fill_color\":\"#1f77b3\",\"line_alpha\":0.1,\"line_color\":\"#1f77b3\",\"x\":{\"field\":\"x\"},\"y\":{\"field\":\"y\"}},\"id\":\"3742\",\"type\":\"Patch\"},{\"attributes\":{},\"id\":\"4033\",\"type\":\"UnionRenderers\"},{\"attributes\":{},\"id\":\"4037\",\"type\":\"UnionRenderers\"},{\"attributes\":{},\"id\":\"4034\",\"type\":\"Selection\"},{\"attributes\":{\"data\":{\"x\":{\"__ndarray__\":\"AAAAAABAdEAAAAAAAEB0QDMzMzMzQ3dAMzMzMzNDd0BmZmZmZkZ6QGZmZmZmRnpAmpmZmZlJfUCamZmZmUl9QGZmZmZmJoBAZmZmZmYmgEAAAAAAAKiBQAAAAAAAqIFAmpmZmZkpg0CamZmZmSmDQDQzMzMzq4RANDMzMzOrhEDNzMzMzCyGQM3MzMzMLIZAZmZmZmauh0BmZmZmZq6HQAAAAAAAMIlAAAAAAAAwiUAAAAAAADCJQAAAAAAAQHRA\",\"dtype\":\"float64\",\"order\":\"little\",\"shape\":[24]},\"y\":{\"__ndarray__\":\"AAAAAAAAAAAAAAAAAADwPwAAAAAAAPA/AAAAAAAACEAAAAAAAAAIQAAAAAAAAABAAAAAAAAAAEAAAAAAAADwPwAAAAAAAPA/AAAAAAAAEEAAAAAAAAAQQAAAAAAAAABAAAAAAAAAAEAAAAAAAAAQQAAAAAAAABBAAAAAAAAA8D8AAAAAAADwPwAAAAAAAAAAAAAAAAAAAAAAAAAAAAAAQAAAAAAAAABAAAAAAAAAAAAAAAAAAAAAAAAAAAAAAAAA\",\"dtype\":\"float64\",\"order\":\"little\",\"shape\":[24]}},\"selected\":{\"id\":\"4026\"},\"selection_policy\":{\"id\":\"4025\"}},\"id\":\"3760\",\"type\":\"ColumnDataSource\"},{\"attributes\":{},\"id\":\"4035\",\"type\":\"UnionRenderers\"},{\"attributes\":{\"line_alpha\":0.1,\"line_color\":\"#ff7e0e\",\"line_width\":2,\"x\":{\"field\":\"x\"},\"y\":{\"field\":\"y\"}},\"id\":\"3747\",\"type\":\"Line\"},{\"attributes\":{},\"id\":\"4036\",\"type\":\"Selection\"},{\"attributes\":{\"line_color\":\"#ff7e0e\",\"line_width\":2,\"x\":{\"field\":\"x\"},\"y\":{\"field\":\"y\"}},\"id\":\"3746\",\"type\":\"Line\"},{\"attributes\":{\"source\":{\"id\":\"3745\"}},\"id\":\"3749\",\"type\":\"CDSView\"},{\"attributes\":{\"data_source\":{\"id\":\"3745\"},\"glyph\":{\"id\":\"3746\"},\"hover_glyph\":null,\"muted_glyph\":null,\"nonselection_glyph\":{\"id\":\"3747\"},\"view\":{\"id\":\"3749\"}},\"id\":\"3748\",\"type\":\"GlyphRenderer\"},{\"attributes\":{\"line_alpha\":{\"value\":0.5},\"line_color\":{\"value\":\"#d62628\"},\"line_width\":{\"value\":0.5},\"xs\":{\"field\":\"xs\"},\"ys\":{\"field\":\"ys\"}},\"id\":\"3791\",\"type\":\"MultiLine\"},{\"attributes\":{\"data\":{\"x\":{\"__ndarray__\":\"AAAAAABAdEAAAAAAAEB0QDMzMzMzQ3dAMzMzMzNDd0BmZmZmZkZ6QGZmZmZmRnpAmpmZmZlJfUCamZmZmUl9QGZmZmZmJoBAZmZmZmYmgEAAAAAAAKiBQAAAAAAAqIFAmpmZmZkpg0CamZmZmSmDQDQzMzMzq4RANDMzMzOrhEDNzMzMzCyGQM3MzMzMLIZAZmZmZmauh0BmZmZmZq6HQAAAAAAAMIlAAAAAAAAwiUA=\",\"dtype\":\"float64\",\"order\":\"little\",\"shape\":[22]},\"y\":{\"__ndarray__\":\"AAAAAAAAAAAAAAAAAADwPwAAAAAAAPA/AAAAAAAACEAAAAAAAAAIQAAAAAAAAABAAAAAAAAAAEAAAAAAAADwPwAAAAAAAPA/AAAAAAAAEEAAAAAAAAAQQAAAAAAAAABAAAAAAAAAAEAAAAAAAAAQQAAAAAAAABBAAAAAAAAA8D8AAAAAAADwPwAAAAAAAAAAAAAAAAAAAAAAAAAAAAAAQAAAAAAAAABAAAAAAAAAAAA=\",\"dtype\":\"float64\",\"order\":\"little\",\"shape\":[22]}},\"selected\":{\"id\":\"4024\"},\"selection_policy\":{\"id\":\"4023\"}},\"id\":\"3755\",\"type\":\"ColumnDataSource\"},{\"attributes\":{\"data_source\":{\"id\":\"3750\"},\"glyph\":{\"id\":\"3751\"},\"hover_glyph\":null,\"muted_glyph\":null,\"nonselection_glyph\":{\"id\":\"3752\"},\"view\":{\"id\":\"3754\"}},\"id\":\"3753\",\"type\":\"GlyphRenderer\"},{\"attributes\":{\"source\":{\"id\":\"3750\"}},\"id\":\"3754\",\"type\":\"CDSView\"},{\"attributes\":{\"fill_alpha\":0.3,\"fill_color\":\"#ff7e0e\",\"line_alpha\":0,\"line_color\":\"#ff7e0e\",\"x\":{\"field\":\"x\"},\"y\":{\"field\":\"y\"}},\"id\":\"3751\",\"type\":\"Patch\"},{\"attributes\":{\"data\":{\"x\":{\"__ndarray__\":\"AAAAAAAANkAAAAAAAAA2QDMzMzMzU1lAMzMzMzNTWUAzMzMzM5NmQDMzMzMzk2ZAZmZmZmY+cEBmZmZmZj5wQDMzMzMzM3VAMzMzMzMzdUAAAAAAACh6QAAAAAAAKHpAzMzMzMwcf0DMzMzMzBx/QM3MzMzMCIJAzczMzMwIgkAzMzMzM4OEQDMzMzMzg4RAmZmZmZn9hkCZmZmZmf2GQAAAAAAAeIlAAAAAAAB4iUAAAAAAAHiJQAAAAAAAADZA\",\"dtype\":\"float64\",\"order\":\"little\",\"shape\":[24]},\"y\":{\"__ndarray__\":\"AAAAAAAAAAAAAAAAAAAAQAAAAAAAAABAAAAAAAAAAEAAAAAAAAAAQAAAAAAAAABAAAAAAAAAAEAAAAAAAADwPwAAAAAAAPA/AAAAAAAAAEAAAAAAAAAAQAAAAAAAAABAAAAAAAAAAEAAAAAAAAAAQAAAAAAAAABAAAAAAAAAEEAAAAAAAAAQQAAAAAAAAABAAAAAAAAAAEAAAAAAAADwPwAAAAAAAPA/AAAAAAAAAAAAAAAAAAAAAAAAAAAAAAAA\",\"dtype\":\"float64\",\"order\":\"little\",\"shape\":[24]}},\"selected\":{\"id\":\"4030\"},\"selection_policy\":{\"id\":\"4029\"}},\"id\":\"3770\",\"type\":\"ColumnDataSource\"},{\"attributes\":{\"line_alpha\":0.1,\"line_color\":\"#2ba02b\",\"line_width\":2,\"x\":{\"field\":\"x\"},\"y\":{\"field\":\"y\"}},\"id\":\"3757\",\"type\":\"Line\"},{\"attributes\":{\"data_source\":{\"id\":\"3755\"},\"glyph\":{\"id\":\"3756\"},\"hover_glyph\":null,\"muted_glyph\":null,\"nonselection_glyph\":{\"id\":\"3757\"},\"view\":{\"id\":\"3759\"}},\"id\":\"3758\",\"type\":\"GlyphRenderer\"},{\"attributes\":{\"source\":{\"id\":\"3755\"}},\"id\":\"3759\",\"type\":\"CDSView\"},{\"attributes\":{\"data_source\":{\"id\":\"3760\"},\"glyph\":{\"id\":\"3761\"},\"hover_glyph\":null,\"muted_glyph\":null,\"nonselection_glyph\":{\"id\":\"3762\"},\"view\":{\"id\":\"3764\"}},\"id\":\"3763\",\"type\":\"GlyphRenderer\"},{\"attributes\":{\"axis_label\":\"impact force (mN)\",\"formatter\":{\"id\":\"4013\"},\"major_label_policy\":{\"id\":\"4012\"},\"ticker\":{\"id\":\"3714\"}},\"id\":\"3713\",\"type\":\"LinearAxis\"},{\"attributes\":{\"fill_alpha\":0.3,\"fill_color\":\"#2ba02b\",\"line_alpha\":0,\"line_color\":\"#2ba02b\",\"x\":{\"field\":\"x\"},\"y\":{\"field\":\"y\"}},\"id\":\"3761\",\"type\":\"Patch\"},{\"attributes\":{\"source\":{\"id\":\"3760\"}},\"id\":\"3764\",\"type\":\"CDSView\"},{\"attributes\":{\"fill_alpha\":0.1,\"fill_color\":\"#2ba02b\",\"line_alpha\":0.1,\"line_color\":\"#2ba02b\",\"x\":{\"field\":\"x\"},\"y\":{\"field\":\"y\"}},\"id\":\"3762\",\"type\":\"Patch\"},{\"attributes\":{\"data\":{\"xs\":[[1205,1205],[2527,2527],[1745,1745],[1556,1556],[493,493],[2276,2276],[556,556],[1928,1928],[2641,2641],[1897,1897],[1891,1891],[1545,1545],[1307,1307],[1692,1692],[1543,1543],[1282,1282],[775,775],[2032,2032],[1240,1240],[473,473]],\"ys\":[[0,0.2],[0,0.2],[0,0.2],[0,0.2],[0,0.2],[0,0.2],[0,0.2],[0,0.2],[0,0.2],[0,0.2],[0,0.2],[0,0.2],[0,0.2],[0,0.2],[0,0.2],[0,0.2],[0,0.2],[0,0.2],[0,0.2],[0,0.2]]},\"selected\":{\"id\":\"4032\"},\"selection_policy\":{\"id\":\"4031\"}},\"id\":\"3775\",\"type\":\"ColumnDataSource\"},{\"attributes\":{\"data_source\":{\"id\":\"3765\"},\"glyph\":{\"id\":\"3766\"},\"hover_glyph\":null,\"muted_glyph\":null,\"nonselection_glyph\":{\"id\":\"3767\"},\"view\":{\"id\":\"3769\"}},\"id\":\"3768\",\"type\":\"GlyphRenderer\"},{\"attributes\":{\"line_color\":\"#d62628\",\"line_width\":2,\"x\":{\"field\":\"x\"},\"y\":{\"field\":\"y\"}},\"id\":\"3766\",\"type\":\"Line\"},{\"attributes\":{\"line_alpha\":0.1,\"line_color\":\"#d62628\",\"line_width\":2,\"x\":{\"field\":\"x\"},\"y\":{\"field\":\"y\"}},\"id\":\"3767\",\"type\":\"Line\"},{\"attributes\":{\"source\":{\"id\":\"3765\"}},\"id\":\"3769\",\"type\":\"CDSView\"},{\"attributes\":{\"data\":{\"x\":{\"__ndarray__\":\"AAAAAAAANkAAAAAAAAA2QDMzMzMzU1lAMzMzMzNTWUAzMzMzM5NmQDMzMzMzk2ZAZmZmZmY+cEBmZmZmZj5wQDMzMzMzM3VAMzMzMzMzdUAAAAAAACh6QAAAAAAAKHpAzMzMzMwcf0DMzMzMzBx/QM3MzMzMCIJAzczMzMwIgkAzMzMzM4OEQDMzMzMzg4RAmZmZmZn9hkCZmZmZmf2GQAAAAAAAeIlAAAAAAAB4iUA=\",\"dtype\":\"float64\",\"order\":\"little\",\"shape\":[22]},\"y\":{\"__ndarray__\":\"AAAAAAAAAAAAAAAAAAAAQAAAAAAAAABAAAAAAAAAAEAAAAAAAAAAQAAAAAAAAABAAAAAAAAAAEAAAAAAAADwPwAAAAAAAPA/AAAAAAAAAEAAAAAAAAAAQAAAAAAAAABAAAAAAAAAAEAAAAAAAAAAQAAAAAAAAABAAAAAAAAAEEAAAAAAAAAQQAAAAAAAAABAAAAAAAAAAEAAAAAAAADwPwAAAAAAAPA/AAAAAAAAAAA=\",\"dtype\":\"float64\",\"order\":\"little\",\"shape\":[22]}},\"selected\":{\"id\":\"4028\"},\"selection_policy\":{\"id\":\"4027\"}},\"id\":\"3765\",\"type\":\"ColumnDataSource\"},{\"attributes\":{},\"id\":\"3709\",\"type\":\"LinearScale\"},{\"attributes\":{\"data_source\":{\"id\":\"3770\"},\"glyph\":{\"id\":\"3771\"},\"hover_glyph\":null,\"muted_glyph\":null,\"nonselection_glyph\":{\"id\":\"3772\"},\"view\":{\"id\":\"3774\"}},\"id\":\"3773\",\"type\":\"GlyphRenderer\"},{\"attributes\":{},\"id\":\"3711\",\"type\":\"LinearScale\"},{\"attributes\":{\"fill_alpha\":0.3,\"fill_color\":\"#d62628\",\"line_alpha\":0,\"line_color\":\"#d62628\",\"x\":{\"field\":\"x\"},\"y\":{\"field\":\"y\"}},\"id\":\"3771\",\"type\":\"Patch\"},{\"attributes\":{\"source\":{\"id\":\"3770\"}},\"id\":\"3774\",\"type\":\"CDSView\"},{\"attributes\":{\"fill_alpha\":0.1,\"fill_color\":\"#d62628\",\"line_alpha\":0.1,\"line_color\":\"#d62628\",\"x\":{\"field\":\"x\"},\"y\":{\"field\":\"y\"}},\"id\":\"3772\",\"type\":\"Patch\"},{\"attributes\":{\"data\":{\"xs\":[[1612,1612],[605,605],[327,327],[946,946],[541,541],[1539,1539],[529,529],[628,628],[1453,1453],[297,297],[703,703],[269,269],[751,751],[245,245],[1182,1182],[515,515],[435,435],[383,383],[457,457],[730,730]],\"ys\":[[0,0.2],[0,0.2],[0,0.2],[0,0.2],[0,0.2],[0,0.2],[0,0.2],[0,0.2],[0,0.2],[0,0.2],[0,0.2],[0,0.2],[0,0.2],[0,0.2],[0,0.2],[0,0.2],[0,0.2],[0,0.2],[0,0.2],[0,0.2]]},\"selected\":{\"id\":\"4034\"},\"selection_policy\":{\"id\":\"4033\"}},\"id\":\"3780\",\"type\":\"ColumnDataSource\"},{\"attributes\":{\"line_alpha\":{\"value\":0.5},\"line_color\":{\"value\":\"#1f77b3\"},\"line_width\":{\"value\":0.5},\"xs\":{\"field\":\"xs\"},\"ys\":{\"field\":\"ys\"}},\"id\":\"3776\",\"type\":\"MultiLine\"},{\"attributes\":{\"line_alpha\":{\"value\":0.1},\"line_color\":{\"value\":\"#1f77b3\"},\"line_width\":{\"value\":0.5},\"xs\":{\"field\":\"xs\"},\"ys\":{\"field\":\"ys\"}},\"id\":\"3777\",\"type\":\"MultiLine\"},{\"attributes\":{\"data\":{\"xs\":[[614,614],[414,414],[324,324],[776,776],[611,611],[544,544],[538,538],[579,579],[806,806],[459,459],[458,458],[626,626],[621,621],[544,544],[535,535],[385,385],[401,401],[614,614],[665,665],[488,488]],\"ys\":[[0,0.2],[0,0.2],[0,0.2],[0,0.2],[0,0.2],[0,0.2],[0,0.2],[0,0.2],[0,0.2],[0,0.2],[0,0.2],[0,0.2],[0,0.2],[0,0.2],[0,0.2],[0,0.2],[0,0.2],[0,0.2],[0,0.2],[0,0.2]]},\"selected\":{\"id\":\"4036\"},\"selection_policy\":{\"id\":\"4035\"}},\"id\":\"3785\",\"type\":\"ColumnDataSource\"},{\"attributes\":{\"data_source\":{\"id\":\"3775\"},\"glyph\":{\"id\":\"3776\"},\"hover_glyph\":null,\"muted_glyph\":null,\"nonselection_glyph\":{\"id\":\"3777\"},\"view\":{\"id\":\"3779\"}},\"id\":\"3778\",\"type\":\"GlyphRenderer\"},{\"attributes\":{\"click_policy\":\"hide\",\"items\":[{\"id\":\"3796\"},{\"id\":\"3797\"},{\"id\":\"3798\"},{\"id\":\"3799\"}],\"location\":\"center\"},\"id\":\"3795\",\"type\":\"Legend\"},{\"attributes\":{\"source\":{\"id\":\"3775\"}},\"id\":\"3779\",\"type\":\"CDSView\"},{\"attributes\":{\"line_alpha\":{\"value\":0.5},\"line_color\":{\"value\":\"#ff7e0e\"},\"line_width\":{\"value\":0.5},\"xs\":{\"field\":\"xs\"},\"ys\":{\"field\":\"ys\"}},\"id\":\"3781\",\"type\":\"MultiLine\"},{\"attributes\":{\"line_alpha\":{\"value\":0.1},\"line_color\":{\"value\":\"#ff7e0e\"},\"line_width\":{\"value\":0.5},\"xs\":{\"field\":\"xs\"},\"ys\":{\"field\":\"ys\"}},\"id\":\"3782\",\"type\":\"MultiLine\"},{\"attributes\":{\"data\":{\"xs\":[[172,172],[142,142],[37,37],[453,453],[355,355],[22,22],[502,502],[273,273],[720,720],[582,582],[198,198],[198,198],[597,597],[516,516],[815,815],[402,402],[605,605],[711,711],[614,614],[468,468]],\"ys\":[[0,0.2],[0,0.2],[0,0.2],[0,0.2],[0,0.2],[0,0.2],[0,0.2],[0,0.2],[0,0.2],[0,0.2],[0,0.2],[0,0.2],[0,0.2],[0,0.2],[0,0.2],[0,0.2],[0,0.2],[0,0.2],[0,0.2],[0,0.2]]},\"selected\":{\"id\":\"4038\"},\"selection_policy\":{\"id\":\"4037\"}},\"id\":\"3790\",\"type\":\"ColumnDataSource\"},{\"attributes\":{\"data_source\":{\"id\":\"3780\"},\"glyph\":{\"id\":\"3781\"},\"hover_glyph\":null,\"muted_glyph\":null,\"nonselection_glyph\":{\"id\":\"3782\"},\"view\":{\"id\":\"3784\"}},\"id\":\"3783\",\"type\":\"GlyphRenderer\"},{\"attributes\":{\"source\":{\"id\":\"3780\"}},\"id\":\"3784\",\"type\":\"CDSView\"},{\"attributes\":{},\"id\":\"4006\",\"type\":\"Title\"},{\"attributes\":{\"axis\":{\"id\":\"3713\"},\"ticker\":null},\"id\":\"3716\",\"type\":\"Grid\"},{\"attributes\":{\"line_alpha\":{\"value\":0.5},\"line_color\":{\"value\":\"#2ba02b\"},\"line_width\":{\"value\":0.5},\"xs\":{\"field\":\"xs\"},\"ys\":{\"field\":\"ys\"}},\"id\":\"3786\",\"type\":\"MultiLine\"},{\"attributes\":{\"line_alpha\":{\"value\":0.1},\"line_color\":{\"value\":\"#2ba02b\"},\"line_width\":{\"value\":0.5},\"xs\":{\"field\":\"xs\"},\"ys\":{\"field\":\"ys\"}},\"id\":\"3787\",\"type\":\"MultiLine\"},{\"attributes\":{\"data_source\":{\"id\":\"3785\"},\"glyph\":{\"id\":\"3786\"},\"hover_glyph\":null,\"muted_glyph\":null,\"nonselection_glyph\":{\"id\":\"3787\"},\"view\":{\"id\":\"3789\"}},\"id\":\"3788\",\"type\":\"GlyphRenderer\"},{\"attributes\":{},\"id\":\"3718\",\"type\":\"BasicTicker\"},{\"attributes\":{\"start\":0},\"id\":\"3704\",\"type\":\"DataRange1d\"},{\"attributes\":{\"axis_label\":\"count\",\"formatter\":{\"id\":\"4010\"},\"major_label_policy\":{\"id\":\"4009\"},\"ticker\":{\"id\":\"3718\"}},\"id\":\"3717\",\"type\":\"LinearAxis\"},{\"attributes\":{\"source\":{\"id\":\"3785\"}},\"id\":\"3789\",\"type\":\"CDSView\"},{\"attributes\":{},\"id\":\"3714\",\"type\":\"BasicTicker\"},{\"attributes\":{},\"id\":\"3706\",\"type\":\"DataRange1d\"}],\"root_ids\":[\"3705\"]},\"title\":\"Bokeh Application\",\"version\":\"2.3.2\"}};\n",
       "  var render_items = [{\"docid\":\"74cf1634-d7e8-4180-a959-3214131dbc7a\",\"root_ids\":[\"3705\"],\"roots\":{\"3705\":\"c3221e22-a341-49c5-b7c4-09d1f6415ddd\"}}];\n",
       "  root.Bokeh.embed.embed_items_notebook(docs_json, render_items);\n",
       "\n",
       "  }\n",
       "  if (root.Bokeh !== undefined) {\n",
       "    embed_document(root);\n",
       "  } else {\n",
       "    var attempts = 0;\n",
       "    var timer = setInterval(function(root) {\n",
       "      if (root.Bokeh !== undefined) {\n",
       "        clearInterval(timer);\n",
       "        embed_document(root);\n",
       "      } else {\n",
       "        attempts++;\n",
       "        if (attempts > 100) {\n",
       "          clearInterval(timer);\n",
       "          console.log(\"Bokeh: ERROR: Unable to run BokehJS code because BokehJS library is missing\");\n",
       "        }\n",
       "      }\n",
       "    }, 10, root)\n",
       "  }\n",
       "})(window);"
      ],
      "application/vnd.bokehjs_exec.v0+json": ""
     },
     "metadata": {
      "application/vnd.bokehjs_exec.v0+json": {
       "id": "3705"
      }
     },
     "output_type": "display_data"
    }
   ],
   "source": [
    "figure = iqplot.histogram(\n",
    "    data=df,\n",
    "    q=\"impact force (mN)\",\n",
    "    cats=\"ID\",\n",
    "    bins=10\n",
    ")\n",
    "\n",
    "bokeh.io.show(figure)"
   ]
  },
  {
   "cell_type": "code",
   "execution_count": 22,
   "metadata": {},
   "outputs": [
    {
     "data": {
      "text/html": [
       "\n",
       "\n",
       "\n",
       "\n",
       "\n",
       "\n",
       "  <div class=\"bk-root\" id=\"44d89b9e-b825-413f-b493-5290c887b77b\" data-root-id=\"4605\"></div>\n"
      ]
     },
     "metadata": {},
     "output_type": "display_data"
    },
    {
     "data": {
      "application/javascript": [
       "(function(root) {\n",
       "  function embed_document(root) {\n",
       "    \n",
       "  var docs_json = {\"9c991286-2748-4c7f-bf42-a05c6a113f59\":{\"defs\":[],\"roots\":{\"references\":[{\"attributes\":{\"below\":[{\"id\":\"4614\"}],\"center\":[{\"id\":\"4617\"},{\"id\":\"4621\"}],\"frame_height\":275,\"frame_width\":375,\"left\":[{\"id\":\"4618\"}],\"renderers\":[{\"id\":\"4639\"},{\"id\":\"4644\"},{\"id\":\"4649\"},{\"id\":\"4654\"},{\"id\":\"4659\"},{\"id\":\"4664\"},{\"id\":\"4669\"},{\"id\":\"4674\"},{\"id\":\"4679\"},{\"id\":\"4684\"},{\"id\":\"4689\"},{\"id\":\"4694\"}],\"right\":[{\"id\":\"4696\"}],\"title\":{\"id\":\"4957\"},\"toolbar\":{\"id\":\"4629\"},\"toolbar_location\":\"above\",\"x_range\":{\"id\":\"4606\"},\"x_scale\":{\"id\":\"4610\"},\"y_range\":{\"id\":\"4608\"},\"y_scale\":{\"id\":\"4612\"}},\"id\":\"4605\",\"subtype\":\"Figure\",\"type\":\"Plot\"},{\"attributes\":{\"data\":{},\"selected\":{\"id\":\"4975\"},\"selection_policy\":{\"id\":\"4974\"}},\"id\":\"4656\",\"type\":\"ColumnDataSource\"},{\"attributes\":{\"source\":{\"id\":\"4651\"}},\"id\":\"4655\",\"type\":\"CDSView\"},{\"attributes\":{\"data_source\":{\"id\":\"4651\"},\"glyph\":{\"id\":\"4652\"},\"hover_glyph\":null,\"muted_glyph\":null,\"nonselection_glyph\":{\"id\":\"4653\"},\"view\":{\"id\":\"4655\"}},\"id\":\"4654\",\"type\":\"GlyphRenderer\"},{\"attributes\":{\"angle\":{\"value\":3.141592653589793},\"line_alpha\":{\"value\":0.1},\"line_color\":{\"value\":\"#ff7e0e\"},\"line_width\":{\"value\":2},\"x\":{\"value\":245.0},\"y\":{\"value\":0}},\"id\":\"4658\",\"type\":\"Ray\"},{\"attributes\":{\"angle\":{\"value\":3.141592653589793},\"line_color\":{\"value\":\"#ff7e0e\"},\"line_width\":{\"value\":2},\"x\":{\"value\":245.0},\"y\":{\"value\":0}},\"id\":\"4657\",\"type\":\"Ray\"},{\"attributes\":{\"data_source\":{\"id\":\"4656\"},\"glyph\":{\"id\":\"4657\"},\"hover_glyph\":null,\"muted_glyph\":null,\"nonselection_glyph\":{\"id\":\"4658\"},\"view\":{\"id\":\"4660\"}},\"id\":\"4659\",\"type\":\"GlyphRenderer\"},{\"attributes\":{\"source\":{\"id\":\"4656\"}},\"id\":\"4660\",\"type\":\"CDSView\"},{\"attributes\":{\"data\":{},\"selected\":{\"id\":\"4977\"},\"selection_policy\":{\"id\":\"4976\"}},\"id\":\"4661\",\"type\":\"ColumnDataSource\"},{\"attributes\":{\"line_alpha\":{\"value\":0.1},\"line_color\":{\"value\":\"#ff7e0e\"},\"line_width\":{\"value\":2},\"x\":{\"value\":1612.0},\"y\":{\"value\":1}},\"id\":\"4663\",\"type\":\"Ray\"},{\"attributes\":{\"data_source\":{\"id\":\"4661\"},\"glyph\":{\"id\":\"4662\"},\"hover_glyph\":null,\"muted_glyph\":null,\"nonselection_glyph\":{\"id\":\"4663\"},\"view\":{\"id\":\"4665\"}},\"id\":\"4664\",\"type\":\"GlyphRenderer\"},{\"attributes\":{\"line_color\":{\"value\":\"#ff7e0e\"},\"line_width\":{\"value\":2},\"x\":{\"value\":1612.0},\"y\":{\"value\":1}},\"id\":\"4662\",\"type\":\"Ray\"},{\"attributes\":{\"source\":{\"id\":\"4661\"}},\"id\":\"4665\",\"type\":\"CDSView\"},{\"attributes\":{\"data\":{\"x\":{\"__ndarray__\":\"AAAAAAAANkAAAAAAAAA2QAAAAAAAgEJAAAAAAACAQkAAAAAAAMBhQAAAAAAAwGFAAAAAAACAZUAAAAAAAIBlQAAAAAAAwGhAAAAAAADAaEAAAAAAAMBoQAAAAAAAwGhAAAAAAAAQcUAAAAAAABBxQAAAAAAAMHZAAAAAAAAwdkAAAAAAACB5QAAAAAAAIHlAAAAAAABQfEAAAAAAAFB8QAAAAAAAQH1AAAAAAABAfUAAAAAAAGB/QAAAAAAAYH9AAAAAAAAggEAAAAAAACCAQAAAAAAAMIJAAAAAAAAwgkAAAAAAAKiCQAAAAAAAqIJAAAAAAADogkAAAAAAAOiCQAAAAAAAMINAAAAAAAAwg0AAAAAAADiGQAAAAAAAOIZAAAAAAACAhkAAAAAAAICGQAAAAAAAeIlAAAAAAAB4iUA=\",\"dtype\":\"float64\",\"order\":\"little\",\"shape\":[40]},\"y\":{\"__ndarray__\":\"AAAAAAAAAACamZmZmZmpP5qZmZmZmak/mpmZmZmZuT+amZmZmZm5PzMzMzMzM8M/MzMzMzMzwz+amZmZmZnJP5qZmZmZmck/AAAAAAAA0D8AAAAAAADQPzMzMzMzM9M/MzMzMzMz0z9mZmZmZmbWP2ZmZmZmZtY/mpmZmZmZ2T+amZmZmZnZP83MzMzMzNw/zczMzMzM3D8AAAAAAADgPwAAAAAAAOA/mpmZmZmZ4T+amZmZmZnhPzMzMzMzM+M/MzMzMzMz4z/NzMzMzMzkP83MzMzMzOQ/ZmZmZmZm5j9mZmZmZmbmPwAAAAAAAOg/AAAAAAAA6D+amZmZmZnpP5qZmZmZmek/MzMzMzMz6z8zMzMzMzPrP83MzMzMzOw/zczMzMzM7D9mZmZmZmbuP2ZmZmZmZu4/AAAAAAAA8D8=\",\"dtype\":\"float64\",\"order\":\"little\",\"shape\":[40]}},\"selected\":{\"id\":\"4985\"},\"selection_policy\":{\"id\":\"4984\"}},\"id\":\"4681\",\"type\":\"ColumnDataSource\"},{\"attributes\":{\"line_alpha\":0.1,\"line_color\":\"#2ba02b\",\"line_width\":2,\"x\":{\"field\":\"x\"},\"y\":{\"field\":\"y\"}},\"id\":\"4668\",\"type\":\"Line\"},{\"attributes\":{\"data_source\":{\"id\":\"4666\"},\"glyph\":{\"id\":\"4667\"},\"hover_glyph\":null,\"muted_glyph\":null,\"nonselection_glyph\":{\"id\":\"4668\"},\"view\":{\"id\":\"4670\"}},\"id\":\"4669\",\"type\":\"GlyphRenderer\"},{\"attributes\":{\"line_color\":\"#2ba02b\",\"line_width\":2,\"x\":{\"field\":\"x\"},\"y\":{\"field\":\"y\"}},\"id\":\"4667\",\"type\":\"Line\"},{\"attributes\":{\"source\":{\"id\":\"4666\"}},\"id\":\"4670\",\"type\":\"CDSView\"},{\"attributes\":{\"data\":{},\"selected\":{\"id\":\"4981\"},\"selection_policy\":{\"id\":\"4980\"}},\"id\":\"4671\",\"type\":\"ColumnDataSource\"},{\"attributes\":{\"angle\":{\"value\":3.141592653589793},\"line_alpha\":{\"value\":0.1},\"line_color\":{\"value\":\"#2ba02b\"},\"line_width\":{\"value\":2},\"x\":{\"value\":324.0},\"y\":{\"value\":0}},\"id\":\"4673\",\"type\":\"Ray\"},{\"attributes\":{\"source\":{\"id\":\"4671\"}},\"id\":\"4675\",\"type\":\"CDSView\"},{\"attributes\":{\"angle\":{\"value\":3.141592653589793},\"line_color\":{\"value\":\"#2ba02b\"},\"line_width\":{\"value\":2},\"x\":{\"value\":324.0},\"y\":{\"value\":0}},\"id\":\"4672\",\"type\":\"Ray\"},{\"attributes\":{\"data_source\":{\"id\":\"4671\"},\"glyph\":{\"id\":\"4672\"},\"hover_glyph\":null,\"muted_glyph\":null,\"nonselection_glyph\":{\"id\":\"4673\"},\"view\":{\"id\":\"4675\"}},\"id\":\"4674\",\"type\":\"GlyphRenderer\"},{\"attributes\":{\"line_alpha\":{\"value\":0.1},\"line_color\":{\"value\":\"#2ba02b\"},\"line_width\":{\"value\":2},\"x\":{\"value\":806.0},\"y\":{\"value\":1}},\"id\":\"4678\",\"type\":\"Ray\"},{\"attributes\":{\"data\":{},\"selected\":{\"id\":\"4983\"},\"selection_policy\":{\"id\":\"4982\"}},\"id\":\"4676\",\"type\":\"ColumnDataSource\"},{\"attributes\":{\"source\":{\"id\":\"4676\"}},\"id\":\"4680\",\"type\":\"CDSView\"},{\"attributes\":{\"line_color\":{\"value\":\"#2ba02b\"},\"line_width\":{\"value\":2},\"x\":{\"value\":806.0},\"y\":{\"value\":1}},\"id\":\"4677\",\"type\":\"Ray\"},{\"attributes\":{\"data_source\":{\"id\":\"4686\"},\"glyph\":{\"id\":\"4687\"},\"hover_glyph\":null,\"muted_glyph\":null,\"nonselection_glyph\":{\"id\":\"4688\"},\"view\":{\"id\":\"4690\"}},\"id\":\"4689\",\"type\":\"GlyphRenderer\"},{\"attributes\":{\"line_alpha\":0.1,\"line_color\":\"#ff7e0e\",\"line_width\":2,\"x\":{\"field\":\"x\"},\"y\":{\"field\":\"y\"}},\"id\":\"4653\",\"type\":\"Line\"},{\"attributes\":{\"line_alpha\":0.1,\"line_color\":\"#d62628\",\"line_width\":2,\"x\":{\"field\":\"x\"},\"y\":{\"field\":\"y\"}},\"id\":\"4683\",\"type\":\"Line\"},{\"attributes\":{\"line_color\":\"#d62628\",\"line_width\":2,\"x\":{\"field\":\"x\"},\"y\":{\"field\":\"y\"}},\"id\":\"4682\",\"type\":\"Line\"},{\"attributes\":{\"source\":{\"id\":\"4681\"}},\"id\":\"4685\",\"type\":\"CDSView\"},{\"attributes\":{\"data_source\":{\"id\":\"4681\"},\"glyph\":{\"id\":\"4682\"},\"hover_glyph\":null,\"muted_glyph\":null,\"nonselection_glyph\":{\"id\":\"4683\"},\"view\":{\"id\":\"4685\"}},\"id\":\"4684\",\"type\":\"GlyphRenderer\"},{\"attributes\":{\"data\":{},\"selected\":{\"id\":\"4987\"},\"selection_policy\":{\"id\":\"4986\"}},\"id\":\"4686\",\"type\":\"ColumnDataSource\"},{\"attributes\":{\"angle\":{\"value\":3.141592653589793},\"line_alpha\":{\"value\":0.1},\"line_color\":{\"value\":\"#d62628\"},\"line_width\":{\"value\":2},\"x\":{\"value\":22.0},\"y\":{\"value\":0}},\"id\":\"4688\",\"type\":\"Ray\"},{\"attributes\":{\"angle\":{\"value\":3.141592653589793},\"line_color\":{\"value\":\"#d62628\"},\"line_width\":{\"value\":2},\"x\":{\"value\":22.0},\"y\":{\"value\":0}},\"id\":\"4687\",\"type\":\"Ray\"},{\"attributes\":{\"axis\":{\"id\":\"4614\"},\"ticker\":null},\"id\":\"4617\",\"type\":\"Grid\"},{\"attributes\":{\"source\":{\"id\":\"4686\"}},\"id\":\"4690\",\"type\":\"CDSView\"},{\"attributes\":{\"axis_label\":\"ECDF\",\"formatter\":{\"id\":\"4961\"},\"major_label_policy\":{\"id\":\"4960\"},\"ticker\":{\"id\":\"4619\"}},\"id\":\"4618\",\"type\":\"LinearAxis\"},{\"attributes\":{\"data\":{},\"selected\":{\"id\":\"4989\"},\"selection_policy\":{\"id\":\"4988\"}},\"id\":\"4691\",\"type\":\"ColumnDataSource\"},{\"attributes\":{},\"id\":\"4619\",\"type\":\"BasicTicker\"},{\"attributes\":{\"line_alpha\":{\"value\":0.1},\"line_color\":{\"value\":\"#d62628\"},\"line_width\":{\"value\":2},\"x\":{\"value\":815.0},\"y\":{\"value\":1}},\"id\":\"4693\",\"type\":\"Ray\"},{\"attributes\":{\"axis\":{\"id\":\"4618\"},\"dimension\":1,\"ticker\":null},\"id\":\"4621\",\"type\":\"Grid\"},{\"attributes\":{},\"id\":\"4964\",\"type\":\"BasicTickFormatter\"},{\"attributes\":{\"line_color\":{\"value\":\"#d62628\"},\"line_width\":{\"value\":2},\"x\":{\"value\":815.0},\"y\":{\"value\":1}},\"id\":\"4692\",\"type\":\"Ray\"},{\"attributes\":{},\"id\":\"4963\",\"type\":\"AllLabels\"},{\"attributes\":{\"data_source\":{\"id\":\"4691\"},\"glyph\":{\"id\":\"4692\"},\"hover_glyph\":null,\"muted_glyph\":null,\"nonselection_glyph\":{\"id\":\"4693\"},\"view\":{\"id\":\"4695\"}},\"id\":\"4694\",\"type\":\"GlyphRenderer\"},{\"attributes\":{\"source\":{\"id\":\"4691\"}},\"id\":\"4695\",\"type\":\"CDSView\"},{\"attributes\":{\"label\":{\"value\":\"III\"},\"renderers\":[{\"id\":\"4669\"}]},\"id\":\"4699\",\"type\":\"LegendItem\"},{\"attributes\":{},\"id\":\"4622\",\"type\":\"PanTool\"},{\"attributes\":{},\"id\":\"4608\",\"type\":\"DataRange1d\"},{\"attributes\":{\"label\":{\"value\":\"IV\"},\"renderers\":[{\"id\":\"4684\"}]},\"id\":\"4700\",\"type\":\"LegendItem\"},{\"attributes\":{},\"id\":\"4623\",\"type\":\"WheelZoomTool\"},{\"attributes\":{\"line_alpha\":0.1,\"line_color\":\"#1f77b3\",\"line_width\":2,\"x\":{\"field\":\"x\"},\"y\":{\"field\":\"y\"}},\"id\":\"4638\",\"type\":\"Line\"},{\"attributes\":{\"overlay\":{\"id\":\"4628\"}},\"id\":\"4624\",\"type\":\"BoxZoomTool\"},{\"attributes\":{},\"id\":\"4966\",\"type\":\"UnionRenderers\"},{\"attributes\":{},\"id\":\"4625\",\"type\":\"SaveTool\"},{\"attributes\":{},\"id\":\"4967\",\"type\":\"Selection\"},{\"attributes\":{},\"id\":\"4626\",\"type\":\"ResetTool\"},{\"attributes\":{},\"id\":\"4968\",\"type\":\"UnionRenderers\"},{\"attributes\":{},\"id\":\"4627\",\"type\":\"HelpTool\"},{\"attributes\":{},\"id\":\"4969\",\"type\":\"Selection\"},{\"attributes\":{},\"id\":\"4960\",\"type\":\"AllLabels\"},{\"attributes\":{},\"id\":\"4970\",\"type\":\"UnionRenderers\"},{\"attributes\":{\"active_multi\":null,\"tools\":[{\"id\":\"4622\"},{\"id\":\"4623\"},{\"id\":\"4624\"},{\"id\":\"4625\"},{\"id\":\"4626\"},{\"id\":\"4627\"}]},\"id\":\"4629\",\"type\":\"Toolbar\"},{\"attributes\":{},\"id\":\"4971\",\"type\":\"Selection\"},{\"attributes\":{\"bottom_units\":\"screen\",\"fill_alpha\":0.5,\"fill_color\":\"lightgrey\",\"left_units\":\"screen\",\"level\":\"overlay\",\"line_alpha\":1.0,\"line_color\":\"black\",\"line_dash\":[4,4],\"line_width\":2,\"right_units\":\"screen\",\"syncable\":false,\"top_units\":\"screen\"},\"id\":\"4628\",\"type\":\"BoxAnnotation\"},{\"attributes\":{},\"id\":\"4972\",\"type\":\"UnionRenderers\"},{\"attributes\":{},\"id\":\"4973\",\"type\":\"Selection\"},{\"attributes\":{\"data_source\":{\"id\":\"4676\"},\"glyph\":{\"id\":\"4677\"},\"hover_glyph\":null,\"muted_glyph\":null,\"nonselection_glyph\":{\"id\":\"4678\"},\"view\":{\"id\":\"4680\"}},\"id\":\"4679\",\"type\":\"GlyphRenderer\"},{\"attributes\":{},\"id\":\"4974\",\"type\":\"UnionRenderers\"},{\"attributes\":{},\"id\":\"4957\",\"type\":\"Title\"},{\"attributes\":{\"label\":{\"value\":\"II\"},\"renderers\":[{\"id\":\"4654\"}]},\"id\":\"4698\",\"type\":\"LegendItem\"},{\"attributes\":{},\"id\":\"4975\",\"type\":\"Selection\"},{\"attributes\":{\"label\":{\"value\":\"I\"},\"renderers\":[{\"id\":\"4639\"}]},\"id\":\"4697\",\"type\":\"LegendItem\"},{\"attributes\":{\"data\":{\"x\":{\"__ndarray__\":\"AAAAAACgbkAAAAAAAKBuQAAAAAAA0HBAAAAAAADQcEAAAAAAAJByQAAAAAAAkHJAAAAAAABwdEAAAAAAAHB0QAAAAAAA8HdAAAAAAADwd0AAAAAAADB7QAAAAAAAMHtAAAAAAACQfEAAAAAAAJB8QAAAAAAAGIBAAAAAAAAYgEAAAAAAAIiAQAAAAAAAiIBAAAAAAADogEAAAAAAAOiAQAAAAAAA6IJAAAAAAADogkAAAAAAAKCDQAAAAAAAoINAAAAAAAD4hUAAAAAAAPiFQAAAAAAA0IZAAAAAAADQhkAAAAAAAHiHQAAAAAAAeIdAAAAAAACQjUAAAAAAAJCNQAAAAAAAeJJAAAAAAAB4kkAAAAAAALSWQAAAAAAAtJZAAAAAAAAMmEAAAAAAAAyYQAAAAAAAMJlAAAAAAAAwmUA=\",\"dtype\":\"float64\",\"order\":\"little\",\"shape\":[40]},\"y\":{\"__ndarray__\":\"AAAAAAAAAACamZmZmZmpP5qZmZmZmak/mpmZmZmZuT+amZmZmZm5PzMzMzMzM8M/MzMzMzMzwz+amZmZmZnJP5qZmZmZmck/AAAAAAAA0D8AAAAAAADQPzMzMzMzM9M/MzMzMzMz0z9mZmZmZmbWP2ZmZmZmZtY/mpmZmZmZ2T+amZmZmZnZP83MzMzMzNw/zczMzMzM3D8AAAAAAADgPwAAAAAAAOA/mpmZmZmZ4T+amZmZmZnhPzMzMzMzM+M/MzMzMzMz4z/NzMzMzMzkP83MzMzMzOQ/ZmZmZmZm5j9mZmZmZmbmPwAAAAAAAOg/AAAAAAAA6D+amZmZmZnpP5qZmZmZmek/MzMzMzMz6z8zMzMzMzPrP83MzMzMzOw/zczMzMzM7D9mZmZmZmbuP2ZmZmZmZu4/AAAAAAAA8D8=\",\"dtype\":\"float64\",\"order\":\"little\",\"shape\":[40]}},\"selected\":{\"id\":\"4973\"},\"selection_policy\":{\"id\":\"4972\"}},\"id\":\"4651\",\"type\":\"ColumnDataSource\"},{\"attributes\":{},\"id\":\"4976\",\"type\":\"UnionRenderers\"},{\"attributes\":{},\"id\":\"4977\",\"type\":\"Selection\"},{\"attributes\":{},\"id\":\"4610\",\"type\":\"LinearScale\"},{\"attributes\":{\"line_color\":\"#ff7e0e\",\"line_width\":2,\"x\":{\"field\":\"x\"},\"y\":{\"field\":\"y\"}},\"id\":\"4652\",\"type\":\"Line\"},{\"attributes\":{},\"id\":\"4978\",\"type\":\"UnionRenderers\"},{\"attributes\":{},\"id\":\"4615\",\"type\":\"BasicTicker\"},{\"attributes\":{\"data\":{\"x\":{\"__ndarray__\":\"AAAAAACQfUAAAAAAAJB9QAAAAAAA0H5AAAAAAADQfkAAAAAAAGCBQAAAAAAAYIFAAAAAAAA4iEAAAAAAADiIQAAAAAAA1JJAAAAAAADUkkAAAAAAAGCTQAAAAAAAYJNAAAAAAAAIlEAAAAAAAAiUQAAAAAAAbJRAAAAAAABslEAAAAAAAByYQAAAAAAAHJhAAAAAAAAkmEAAAAAAACSYQAAAAAAAUJhAAAAAAABQmEAAAAAAAHCaQAAAAAAAcJpAAAAAAABEm0AAAAAAAESbQAAAAAAAjJ1AAAAAAACMnUAAAAAAAKSdQAAAAAAApJ1AAAAAAAAgnkAAAAAAACCeQAAAAAAAwJ9AAAAAAADAn0AAAAAAAMihQAAAAAAAyKFAAAAAAAC+o0AAAAAAAL6jQAAAAAAAoqRAAAAAAACipEA=\",\"dtype\":\"float64\",\"order\":\"little\",\"shape\":[40]},\"y\":{\"__ndarray__\":\"AAAAAAAAAACamZmZmZmpP5qZmZmZmak/mpmZmZmZuT+amZmZmZm5PzMzMzMzM8M/MzMzMzMzwz+amZmZmZnJP5qZmZmZmck/AAAAAAAA0D8AAAAAAADQPzMzMzMzM9M/MzMzMzMz0z9mZmZmZmbWP2ZmZmZmZtY/mpmZmZmZ2T+amZmZmZnZP83MzMzMzNw/zczMzMzM3D8AAAAAAADgPwAAAAAAAOA/mpmZmZmZ4T+amZmZmZnhPzMzMzMzM+M/MzMzMzMz4z/NzMzMzMzkP83MzMzMzOQ/ZmZmZmZm5j9mZmZmZmbmPwAAAAAAAOg/AAAAAAAA6D+amZmZmZnpP5qZmZmZmek/MzMzMzMz6z8zMzMzMzPrP83MzMzMzOw/zczMzMzM7D9mZmZmZmbuP2ZmZmZmZu4/AAAAAAAA8D8=\",\"dtype\":\"float64\",\"order\":\"little\",\"shape\":[40]}},\"selected\":{\"id\":\"4967\"},\"selection_policy\":{\"id\":\"4966\"}},\"id\":\"4636\",\"type\":\"ColumnDataSource\"},{\"attributes\":{},\"id\":\"4979\",\"type\":\"Selection\"},{\"attributes\":{},\"id\":\"4980\",\"type\":\"UnionRenderers\"},{\"attributes\":{\"data_source\":{\"id\":\"4636\"},\"glyph\":{\"id\":\"4637\"},\"hover_glyph\":null,\"muted_glyph\":null,\"nonselection_glyph\":{\"id\":\"4638\"},\"view\":{\"id\":\"4640\"}},\"id\":\"4639\",\"type\":\"GlyphRenderer\"},{\"attributes\":{\"line_color\":\"#1f77b3\",\"line_width\":2,\"x\":{\"field\":\"x\"},\"y\":{\"field\":\"y\"}},\"id\":\"4637\",\"type\":\"Line\"},{\"attributes\":{},\"id\":\"4981\",\"type\":\"Selection\"},{\"attributes\":{},\"id\":\"4982\",\"type\":\"UnionRenderers\"},{\"attributes\":{\"data\":{},\"selected\":{\"id\":\"4969\"},\"selection_policy\":{\"id\":\"4968\"}},\"id\":\"4641\",\"type\":\"ColumnDataSource\"},{\"attributes\":{\"source\":{\"id\":\"4636\"}},\"id\":\"4640\",\"type\":\"CDSView\"},{\"attributes\":{},\"id\":\"4983\",\"type\":\"Selection\"},{\"attributes\":{},\"id\":\"4984\",\"type\":\"UnionRenderers\"},{\"attributes\":{\"angle\":{\"value\":3.141592653589793},\"line_alpha\":{\"value\":0.1},\"line_color\":{\"value\":\"#1f77b3\"},\"line_width\":{\"value\":2},\"x\":{\"value\":473.0},\"y\":{\"value\":0}},\"id\":\"4643\",\"type\":\"Ray\"},{\"attributes\":{},\"id\":\"4985\",\"type\":\"Selection\"},{\"attributes\":{\"angle\":{\"value\":3.141592653589793},\"line_color\":{\"value\":\"#1f77b3\"},\"line_width\":{\"value\":2},\"x\":{\"value\":473.0},\"y\":{\"value\":0}},\"id\":\"4642\",\"type\":\"Ray\"},{\"attributes\":{},\"id\":\"4986\",\"type\":\"UnionRenderers\"},{\"attributes\":{\"click_policy\":\"hide\",\"items\":[{\"id\":\"4697\"},{\"id\":\"4698\"},{\"id\":\"4699\"},{\"id\":\"4700\"}],\"location\":\"center\"},\"id\":\"4696\",\"type\":\"Legend\"},{\"attributes\":{\"data_source\":{\"id\":\"4641\"},\"glyph\":{\"id\":\"4642\"},\"hover_glyph\":null,\"muted_glyph\":null,\"nonselection_glyph\":{\"id\":\"4643\"},\"view\":{\"id\":\"4645\"}},\"id\":\"4644\",\"type\":\"GlyphRenderer\"},{\"attributes\":{},\"id\":\"4987\",\"type\":\"Selection\"},{\"attributes\":{\"source\":{\"id\":\"4641\"}},\"id\":\"4645\",\"type\":\"CDSView\"},{\"attributes\":{\"axis_label\":\"impact force (mN)\",\"formatter\":{\"id\":\"4964\"},\"major_label_policy\":{\"id\":\"4963\"},\"ticker\":{\"id\":\"4615\"}},\"id\":\"4614\",\"type\":\"LinearAxis\"},{\"attributes\":{\"data\":{},\"selected\":{\"id\":\"4971\"},\"selection_policy\":{\"id\":\"4970\"}},\"id\":\"4646\",\"type\":\"ColumnDataSource\"},{\"attributes\":{},\"id\":\"4988\",\"type\":\"UnionRenderers\"},{\"attributes\":{},\"id\":\"4606\",\"type\":\"DataRange1d\"},{\"attributes\":{\"line_alpha\":{\"value\":0.1},\"line_color\":{\"value\":\"#1f77b3\"},\"line_width\":{\"value\":2},\"x\":{\"value\":2641.0},\"y\":{\"value\":1}},\"id\":\"4648\",\"type\":\"Ray\"},{\"attributes\":{},\"id\":\"4989\",\"type\":\"Selection\"},{\"attributes\":{},\"id\":\"4612\",\"type\":\"LinearScale\"},{\"attributes\":{\"line_color\":{\"value\":\"#1f77b3\"},\"line_width\":{\"value\":2},\"x\":{\"value\":2641.0},\"y\":{\"value\":1}},\"id\":\"4647\",\"type\":\"Ray\"},{\"attributes\":{\"data_source\":{\"id\":\"4646\"},\"glyph\":{\"id\":\"4647\"},\"hover_glyph\":null,\"muted_glyph\":null,\"nonselection_glyph\":{\"id\":\"4648\"},\"view\":{\"id\":\"4650\"}},\"id\":\"4649\",\"type\":\"GlyphRenderer\"},{\"attributes\":{\"source\":{\"id\":\"4646\"}},\"id\":\"4650\",\"type\":\"CDSView\"},{\"attributes\":{},\"id\":\"4961\",\"type\":\"BasicTickFormatter\"},{\"attributes\":{\"data\":{\"x\":{\"__ndarray__\":\"AAAAAABAdEAAAAAAAEB0QAAAAAAAEHhAAAAAAAAQeEAAAAAAABB5QAAAAAAAEHlAAAAAAADgeUAAAAAAAOB5QAAAAAAAoHxAAAAAAACgfEAAAAAAALB8QAAAAAAAsHxAAAAAAACAfkAAAAAAAIB+QAAAAAAAuIBAAAAAAAC4gEAAAAAAANCAQAAAAAAA0IBAAAAAAAAAgUAAAAAAAACBQAAAAAAAAIFAAAAAAAAAgUAAAAAAABiCQAAAAAAAGIJAAAAAAAAYg0AAAAAAABiDQAAAAAAAMINAAAAAAAAwg0AAAAAAADCDQAAAAAAAMINAAAAAAABog0AAAAAAAGiDQAAAAAAAkINAAAAAAACQg0AAAAAAAMiEQAAAAAAAyIRAAAAAAABAiEAAAAAAAECIQAAAAAAAMIlAAAAAAAAwiUA=\",\"dtype\":\"float64\",\"order\":\"little\",\"shape\":[40]},\"y\":{\"__ndarray__\":\"AAAAAAAAAACamZmZmZmpP5qZmZmZmak/mpmZmZmZuT+amZmZmZm5PzMzMzMzM8M/MzMzMzMzwz+amZmZmZnJP5qZmZmZmck/AAAAAAAA0D8AAAAAAADQPzMzMzMzM9M/MzMzMzMz0z9mZmZmZmbWP2ZmZmZmZtY/mpmZmZmZ2T+amZmZmZnZP83MzMzMzNw/zczMzMzM3D8AAAAAAADgPwAAAAAAAOA/mpmZmZmZ4T+amZmZmZnhPzMzMzMzM+M/MzMzMzMz4z/NzMzMzMzkP83MzMzMzOQ/ZmZmZmZm5j9mZmZmZmbmPwAAAAAAAOg/AAAAAAAA6D+amZmZmZnpP5qZmZmZmek/MzMzMzMz6z8zMzMzMzPrP83MzMzMzOw/zczMzMzM7D9mZmZmZmbuP2ZmZmZmZu4/AAAAAAAA8D8=\",\"dtype\":\"float64\",\"order\":\"little\",\"shape\":[40]}},\"selected\":{\"id\":\"4979\"},\"selection_policy\":{\"id\":\"4978\"}},\"id\":\"4666\",\"type\":\"ColumnDataSource\"}],\"root_ids\":[\"4605\"]},\"title\":\"Bokeh Application\",\"version\":\"2.3.2\"}};\n",
       "  var render_items = [{\"docid\":\"9c991286-2748-4c7f-bf42-a05c6a113f59\",\"root_ids\":[\"4605\"],\"roots\":{\"4605\":\"44d89b9e-b825-413f-b493-5290c887b77b\"}}];\n",
       "  root.Bokeh.embed.embed_items_notebook(docs_json, render_items);\n",
       "\n",
       "  }\n",
       "  if (root.Bokeh !== undefined) {\n",
       "    embed_document(root);\n",
       "  } else {\n",
       "    var attempts = 0;\n",
       "    var timer = setInterval(function(root) {\n",
       "      if (root.Bokeh !== undefined) {\n",
       "        clearInterval(timer);\n",
       "        embed_document(root);\n",
       "      } else {\n",
       "        attempts++;\n",
       "        if (attempts > 100) {\n",
       "          clearInterval(timer);\n",
       "          console.log(\"Bokeh: ERROR: Unable to run BokehJS code because BokehJS library is missing\");\n",
       "        }\n",
       "      }\n",
       "    }, 10, root)\n",
       "  }\n",
       "})(window);"
      ],
      "application/vnd.bokehjs_exec.v0+json": ""
     },
     "metadata": {
      "application/vnd.bokehjs_exec.v0+json": {
       "id": "4605"
      }
     },
     "output_type": "display_data"
    }
   ],
   "source": [
    "figure = iqplot.ecdf(\n",
    "    data=df,\n",
    "    q=\"impact force (mN)\",\n",
    "    cats=\"ID\",\n",
    "    style=\"staircase\"\n",
    ")\n",
    "\n",
    "bokeh.io.show(figure)"
   ]
  },
  {
   "cell_type": "code",
   "execution_count": null,
   "metadata": {},
   "outputs": [],
   "source": []
  }
 ],
 "metadata": {
  "kernelspec": {
   "display_name": "Python 3",
   "language": "python",
   "name": "python3"
  },
  "language_info": {
   "codemirror_mode": {
    "name": "ipython",
    "version": 3
   },
   "file_extension": ".py",
   "mimetype": "text/x-python",
   "name": "python",
   "nbconvert_exporter": "python",
   "pygments_lexer": "ipython3",
   "version": "3.7.0"
  }
 },
 "nbformat": 4,
 "nbformat_minor": 4
}
